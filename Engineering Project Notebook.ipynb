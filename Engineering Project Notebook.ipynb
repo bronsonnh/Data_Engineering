{
 "cells": [
  {
   "cell_type": "code",
   "execution_count": 1,
   "id": "c7a42652",
   "metadata": {},
   "outputs": [],
   "source": [
    "reset -fs\n"
   ]
  },
  {
   "cell_type": "code",
   "execution_count": 2,
   "id": "4fd3a969",
   "metadata": {},
   "outputs": [],
   "source": [
    "import pyspark\n",
    "import findspark\n",
    "findspark.init() \n",
    "\n",
    "import pandas as pd\n",
    "import datetime as dt\n",
    "import numpy as np\n",
    "import matplotlib.ticker\n",
    "import matplotlib.pyplot as plt\n",
    "\n",
    "import webbrowser"
   ]
  },
  {
   "cell_type": "code",
   "execution_count": 3,
   "id": "e33f230d",
   "metadata": {},
   "outputs": [
    {
     "name": "stderr",
     "output_type": "stream",
     "text": [
      "Using Spark's default log4j profile: org/apache/spark/log4j-defaults.properties\n",
      "Setting default log level to \"WARN\".\n",
      "To adjust logging level use sc.setLogLevel(newLevel). For SparkR, use setLogLevel(newLevel).\n",
      "21/12/17 02:23:19 WARN NativeCodeLoader: Unable to load native-hadoop library for your platform... using builtin-java classes where applicable\n",
      "21/12/17 02:23:20 WARN Utils: Service 'SparkUI' could not bind on port 4040. Attempting port 4041.\n"
     ]
    }
   ],
   "source": [
    "spark = pyspark.sql.SparkSession.builder.getOrCreate()"
   ]
  },
  {
   "cell_type": "code",
   "execution_count": 4,
   "id": "5a61fcb4",
   "metadata": {},
   "outputs": [
    {
     "name": "stderr",
     "output_type": "stream",
     "text": [
      "[Stage 1:>                                                          (0 + 8) / 8]\r"
     ]
    },
    {
     "name": "stdout",
     "output_type": "stream",
     "text": [
      "root\n",
      " |-- time: timestamp (nullable = true)\n",
      " |-- latitude: double (nullable = true)\n",
      " |-- longitude: double (nullable = true)\n",
      " |-- depth: double (nullable = true)\n",
      " |-- mag: double (nullable = true)\n",
      " |-- magType: string (nullable = true)\n",
      " |-- nst: integer (nullable = true)\n",
      " |-- gap: double (nullable = true)\n",
      " |-- dmin: double (nullable = true)\n",
      " |-- rms: double (nullable = true)\n",
      " |-- net: string (nullable = true)\n",
      " |-- id: string (nullable = true)\n",
      " |-- updated: timestamp (nullable = true)\n",
      " |-- place: string (nullable = true)\n",
      " |-- type: string (nullable = true)\n",
      " |-- horizontalError: double (nullable = true)\n",
      " |-- depthError: double (nullable = true)\n",
      " |-- magError: double (nullable = true)\n",
      " |-- magNst: integer (nullable = true)\n",
      " |-- status: string (nullable = true)\n",
      " |-- locationSource: string (nullable = true)\n",
      " |-- magSource: string (nullable = true)\n",
      "\n"
     ]
    },
    {
     "name": "stderr",
     "output_type": "stream",
     "text": [
      "                                                                                \r"
     ]
    }
   ],
   "source": [
    "## Importing earthquakes CSV with historical data \n",
    "earthquakes = spark.read.csv('/Users/nicholasbronson/Metis_Nick/earthquake_f.csv',\n",
    "                      header='true', \n",
    "                      inferSchema='true', \n",
    "                      sep=',')\n",
    "\n",
    "earthquakes.printSchema()\n",
    "\n"
   ]
  },
  {
   "cell_type": "markdown",
   "id": "90e36e6e",
   "metadata": {},
   "source": [
    "## Data Exploration and Cleaning in Spark  "
   ]
  },
  {
   "cell_type": "code",
   "execution_count": 5,
   "id": "2b909aaf",
   "metadata": {
    "scrolled": true
   },
   "outputs": [
    {
     "name": "stdout",
     "output_type": "stream",
     "text": [
      "+--------------------+----------+------------+-----+----+-------+---+------+--------+------+---+----------+--------------------+--------------------+----------+---------------+----------+--------+------+---------+--------------+---------+\n",
      "|                time|  latitude|   longitude|depth| mag|magType|nst|   gap|    dmin|   rms|net|        id|             updated|               place|      type|horizontalError|depthError|magError|magNst|   status|locationSource|magSource|\n",
      "+--------------------+----------+------------+-----+----+-------+---+------+--------+------+---+----------+--------------------+--------------------+----------+---------------+----------+--------+------+---------+--------------+---------+\n",
      "|2021-12-11 10:49:...|32.3831673|-116.8099976|13.96| 1.7|     ml| 34| 216.0|  0.1423|  0.19| ci|ci39885439|2021-12-11 10:52:...|21km NNE of Primo...|earthquake|           0.45|      0.66|   0.241|     8|automatic|            ci|       ci|\n",
      "|2021-12-11 10:39:...|33.9278333|   -118.2645| 10.3|1.32|     ml| 12| 136.0| 0.02212|  0.25| ci|ci39885431|2021-12-11 10:43:...|2km NW of Willowb...|earthquake|            0.7|      1.01|   0.248|    32|automatic|            ci|       ci|\n",
      "|2021-12-11 10:07:...|   33.3325|-116.1963333| 1.89|2.29|     ml| 70|  39.0| 0.09938|  0.32| ci|ci39885423|2021-12-11 10:12:...|17km SSW of Oasis...|earthquake|           0.29|      0.92|   0.211|    26|automatic|            ci|       ci|\n",
      "|2021-12-11 09:58:...|   38.5098|    -119.538|  7.1| 1.0|     ml| 11|200.86|   0.077|0.1847| nn|nn00829809|2021-12-11 10:02:...|5 km W of Walker,...|earthquake|           null|       0.8|    0.34|     5|automatic|            nn|       nn|\n",
      "|2021-12-11 09:50:...| 38.815834|-122.8206635| 2.13|1.12|     md| 25|  51.0|0.009625|  0.05| nc|nc73662621|2021-12-11 10:09:...|7km NW of The Gey...|earthquake|           0.21|       0.4|    0.14|     3|automatic|            nc|       nc|\n",
      "+--------------------+----------+------------+-----+----+-------+---+------+--------+------+---+----------+--------------------+--------------------+----------+---------------+----------+--------+------+---------+--------------+---------+\n",
      "only showing top 5 rows\n",
      "\n"
     ]
    }
   ],
   "source": [
    "earthquakes.show(5)"
   ]
  },
  {
   "cell_type": "code",
   "execution_count": 6,
   "id": "d82e3227",
   "metadata": {},
   "outputs": [
    {
     "name": "stdout",
     "output_type": "stream",
     "text": [
      "+--------------------+--------+---------+-----+---+-------+----+-----+-----+----+---+----------+--------------------+--------------------+----------+---------------+----------+--------+------+--------+--------------+---------+\n",
      "|                time|latitude|longitude|depth|mag|magType| nst|  gap| dmin| rms|net|        id|             updated|               place|      type|horizontalError|depthError|magError|magNst|  status|locationSource|magSource|\n",
      "+--------------------+--------+---------+-----+---+-------+----+-----+-----+----+---+----------+--------------------+--------------------+----------+---------------+----------+--------+------+--------+--------------+---------+\n",
      "|2021-12-09 10:31:...| 30.0785|-113.6312| 10.0|4.6|     mb|null|149.0|1.421|0.95| us|us6000gav6|2021-12-09 11:17:...|92 km W of La Lib...|earthquake|            3.9|       1.8|   0.069|    67|reviewed|            us|       us|\n",
      "|2021-12-08 08:45:...| 38.6552| -97.4462|  3.0|4.3|    mwr|null| 68.0|0.735|0.46| us|us6000gaga|2021-12-11 10:27:...|5 km SSW of Gypsu...|earthquake|            2.5|       1.9|   0.048|    42|reviewed|            us|       us|\n",
      "|2021-12-06 12:30:...| 29.8857|-113.9184| 10.0|4.7|     mb|null|161.0|1.402|1.29| us|us6000g9hs|2021-12-10 11:35:...|118 km W of La Li...|earthquake|            6.8|       1.9|   0.085|    42|reviewed|            us|       us|\n",
      "|2021-12-05 12:37:...| 30.0065|-113.7676| 10.0|4.8|     mb|null| 91.0|1.389|1.17| us|us6000g9b3|2021-12-05 13:05:...|104 km W of La Li...|earthquake|            5.6|       1.9|   0.053|   110|reviewed|            us|       us|\n",
      "|2021-12-05 01:55:...| 30.1508|-113.2774| 10.0|4.2|     mb|null|139.0|1.416| 0.6| us|us6000g97p|2021-12-05 02:37:...|62 km WNW of La L...|earthquake|            5.1|       2.0|   0.199|     7|reviewed|            us|       us|\n",
      "|2021-12-04 20:26:...| 29.8377|-113.8897| 10.0|4.8|     mb|null|192.0|1.455|0.93| us|us6000g967|2021-12-04 21:38:...|116 km W of La Li...|earthquake|            8.2|       2.0|   0.062|    81|reviewed|            us|       us|\n",
      "|2021-12-04 16:57:...| 29.9346|-113.7309| 10.0|4.4|     mb|null|155.0|1.464|0.91| us|us6000g935|2021-12-04 23:27:...|100 km W of La Li...|earthquake|            4.8|       2.0|   0.179|     9|reviewed|            us|       us|\n",
      "|2021-12-04 03:11:...| 24.9673|-109.3304| 10.0|5.1|    mww|null|174.0|3.511|1.01| us|us6000g8z7|2021-12-05 01:17:...|75 km SSW of Topo...|earthquake|            8.2|       1.9|   0.046|    46|reviewed|            us|       us|\n",
      "|2021-12-04 02:58:...| 29.9036|-113.6376| 10.0|4.6|     mb|null|154.0|1.541|0.82| us|us6000g8yu|2021-12-04 03:19:...|91 km W of La Lib...|earthquake|            2.6|       2.0|   0.152|    13|reviewed|            us|       us|\n",
      "|2021-11-29 15:00:...| 29.8352|-113.8222| 10.0|4.6|     mb|null|127.0|0.916|0.99| us|us6000g7q0|2021-12-03 15:53:...|109 km W of La Li...|earthquake|            4.4|       1.9|   0.101|    29|reviewed|            us|       us|\n",
      "|2021-11-29 14:23:...| 29.7891|-113.8347| 10.0|4.6|     mb|null|130.0|0.875|1.41| us|us6000g7pp|2021-12-03 14:17:...|111 km W of La Li...|earthquake|            3.9|       1.9|   0.075|    53|reviewed|            us|       us|\n",
      "|2021-11-29 03:44:...| 29.8581|-113.8418| 10.0|4.2|     mb|null|160.0|1.463| 0.6| us|us7000fxxr|2021-11-29 04:10:...|111 km W of La Li...|earthquake|            5.5|       2.0|   0.086|    38|reviewed|            us|       us|\n",
      "|2021-11-29 01:37:...| 30.6222|-113.7254| 10.0|4.3|     mb|null|135.0|0.965|0.91| us|us7000fxwa|2021-11-29 04:49:...|79 km SSW of Puer...|earthquake|            5.9|       2.0|   0.147|    13|reviewed|            us|       us|\n",
      "|2021-11-29 01:24:...| 29.8708|-113.7144| 10.0|4.3|     mb|null|156.0|1.521| 0.5| us|us7000fxvz|2021-11-29 02:27:...|98 km W of La Lib...|earthquake|            7.0|       2.0|   0.104|    26|reviewed|            us|       us|\n",
      "|2021-11-25 17:50:...| 29.8928|-113.8858| 10.0|4.6|     mb|null|129.0|0.987|0.85| us|us7000fx3w|2021-12-10 01:17:...|115 km W of La Li...|earthquake|            2.6|       2.0|   0.048|   129|reviewed|            us|       us|\n",
      "|2021-11-25 15:42:...| 29.8581| -113.826| 10.0|4.4|     mb|null|196.0|1.471| 0.7| us|us7000fx39|2021-12-02 09:29:...|Baja California, ...|earthquake|            7.2|       1.9|   0.089|    39|reviewed|            us|       us|\n",
      "|2021-11-24 04:47:...| 29.8041| -113.832| 10.0|4.6|    mwr|null|174.0|1.512|0.94| us|us7000fwny|2021-12-09 01:44:...|110 km W of La Li...|earthquake|            5.6|       2.0|   0.042|    55|reviewed|            us|       us|\n",
      "|2021-11-23 23:37:...| 29.8074|-113.8351| 10.0|4.9|     mb|null|160.0|1.507|0.51| us|us7000fwmd|2021-11-24 19:07:...|111 km W of La Li...|earthquake|            7.1|       1.9|   0.056|   102|reviewed|            us|       us|\n",
      "|2021-11-23 06:30:...| 30.0705|-113.7177| 10.0|4.3|     mb|null|152.0|1.372|0.55| us|us7000fwf0|2021-11-23 09:46:...|100 km W of La Li...|earthquake|            3.2|       2.0|   0.161|    11|reviewed|            us|       us|\n",
      "|2021-11-20 22:47:...| 29.9709|-113.7272| 10.0|4.2|     mb|null|198.0|1.439|1.04| us|us7000fvvi|2021-11-20 23:04:...|100 km W of La Li...|earthquake|            4.4|       2.0|     0.2|     9|reviewed|            us|       us|\n",
      "|2021-11-20 02:29:...| 29.8727|-113.8106| 10.0|4.3|     mb|null|125.0| 0.95|0.56| us|us7000fvpc|2021-12-09 00:55:...|108 km W of La Li...|earthquake|            4.5|       1.9|   0.116|    23|reviewed|            us|       us|\n",
      "|2021-11-18 23:26:...| 29.9548|-113.8311| 10.0|4.5|     mb|null|197.0|1.392|0.98| us|us7000fvcw|2021-11-19 00:04:...|110 km W of La Li...|earthquake|            8.2|       2.0|   0.097|    34|reviewed|            us|       us|\n",
      "|2021-11-17 23:33:...| 30.7531|-113.1491| 10.0|4.4|     mb|null|165.0| 0.85|0.91| us|us7000fv07|2021-11-19 00:48:...|41 km W of Plutar...|earthquake|            8.2|       2.0|    0.11|    24|reviewed|            us|       us|\n",
      "|2021-11-17 23:32:...| 29.9435|-113.7531| 10.0|4.1|     mb|null|157.0|1.444|0.53| us|us7000fuzx|2021-11-18 23:59:...|102 km W of La Li...|earthquake|            4.6|       2.0|   0.301|     3|reviewed|            us|       us|\n",
      "|2021-11-15 09:46:...| 29.8621|-113.7785| 10.0|4.2|     mb|null|160.0|1.493|0.85| us|us7000fubc|2021-11-16 13:57:...|105 km W of La Li...|earthquake|            6.9|       2.0|   0.372|     4|reviewed|            us|       us|\n",
      "|2021-11-12 00:09:...| 29.9753|-113.8171| 10.0|4.3|     mb|null|198.0|1.384|0.51| us|us7000ftgr|2021-11-24 10:16:...|108 km W of La Li...|earthquake|            4.9|       2.0|   0.154|    12|reviewed|            us|       us|\n",
      "|2021-11-10 22:14:...| 29.2308|-114.0112| 10.0|4.1|     mb|null|184.0|1.942|0.82| us|us7000ft4g|2021-11-17 17:22:...|91 km NNW of San ...|earthquake|            8.0|       2.0|   0.166|    10|reviewed|            us|       us|\n",
      "|2021-11-09 04:43:...| 29.4809|-113.5658| 10.0|4.4|     mb|null|161.0|1.908|0.68| us|us7000fsnf|2021-11-16 04:22:...|97 km WSW of La L...|earthquake|            4.8|       1.7|   0.096|    31|reviewed|            us|       us|\n",
      "|2021-11-06 02:19:...| 29.8431|-113.9088| 10.0|4.3|     mb|null|162.0|1.442|0.69| us|us7000fry2|2021-12-08 08:30:...|117 km W of La Li...|earthquake|            2.2|       2.0|   0.217|     6|reviewed|            us|       us|\n",
      "|2021-11-05 16:18:...| 29.7569|-113.6786| 10.0|4.5|     mb|null|121.0|0.816|1.25| us|us7000fru2|2021-12-08 14:52:...|96 km W of La Lib...|earthquake|            3.7|       1.8|   0.128|    22|reviewed|            us|       us|\n",
      "+--------------------+--------+---------+-----+---+-------+----+-----+-----+----+---+----------+--------------------+--------------------+----------+---------------+----------+--------+------+--------+--------------+---------+\n",
      "only showing top 30 rows\n",
      "\n"
     ]
    }
   ],
   "source": [
    "eqs_filtered = earthquakes.filter(earthquakes.mag > 4)\n",
    "\n",
    "eqs_filtered.show(30)"
   ]
  },
  {
   "cell_type": "code",
   "execution_count": 7,
   "id": "512c1197",
   "metadata": {},
   "outputs": [
    {
     "data": {
      "text/plain": [
       "pyspark.sql.dataframe.DataFrame"
      ]
     },
     "execution_count": 7,
     "metadata": {},
     "output_type": "execute_result"
    }
   ],
   "source": [
    "type(earthquakes)"
   ]
  },
  {
   "cell_type": "code",
   "execution_count": 8,
   "id": "d4073744",
   "metadata": {},
   "outputs": [
    {
     "name": "stderr",
     "output_type": "stream",
     "text": [
      "                                                                                \r"
     ]
    },
    {
     "name": "stdout",
     "output_type": "stream",
     "text": [
      "+--------------------+----------+------------+-----+---+-------+---+-----+-------+----+---+----------+--------------------+--------------------+----------+---------------+----------+--------+------+--------+--------------+---------+\n",
      "|                time|  latitude|   longitude|depth|mag|magType|nst|  gap|   dmin| rms|net|        id|             updated|               place|      type|horizontalError|depthError|magError|magNst|  status|locationSource|magSource|\n",
      "+--------------------+----------+------------+-----+---+-------+---+-----+-------+----+---+----------+--------------------+--------------------+----------+---------------+----------+--------+------+--------+--------------+---------+\n",
      "|2019-07-05 23:19:...|   35.7695|-117.5993333|  8.0|7.1|     mw| 77| 43.0|0.04616|0.22| ci|ci38457511|2021-11-18 00:02:...|2019 Ridgecrest E...|earthquake|           0.19|     31.61|    null|     0|reviewed|            ci|       ci|\n",
      "|2010-04-04 18:40:...|32.2861667|-115.2953333|9.987|7.2|     mw| 10|239.0| 0.5137|0.11| ci|ci14607652|2021-11-02 20:54:...|12km SW of Delta,...|earthquake|           1.81|     31.61|    null|     0|reviewed|            ci|       ci|\n",
      "+--------------------+----------+------------+-----+---+-------+---+-----+-------+----+---+----------+--------------------+--------------------+----------+---------------+----------+--------+------+--------+--------------+---------+\n",
      "\n"
     ]
    }
   ],
   "source": [
    "eqs_filtered2 = earthquakes.filter(earthquakes.mag > 7)\n",
    "\n",
    "eqs_filtered2.show(5)"
   ]
  },
  {
   "cell_type": "code",
   "execution_count": 9,
   "id": "980d5166",
   "metadata": {},
   "outputs": [],
   "source": [
    "earthquakes.createOrReplaceTempView(\"eqs\")"
   ]
  },
  {
   "cell_type": "code",
   "execution_count": 10,
   "id": "00e93855",
   "metadata": {},
   "outputs": [
    {
     "name": "stdout",
     "output_type": "stream",
     "text": [
      "+--------------------+--------+\n",
      "|                time|latitude|\n",
      "+--------------------+--------+\n",
      "|2019-07-05 23:19:...| 35.7695|\n",
      "|2015-09-13 04:14:...|  24.913|\n",
      "+--------------------+--------+\n",
      "only showing top 2 rows\n",
      "\n"
     ]
    }
   ],
   "source": [
    "query = \"\"\"\n",
    "        SELECT time, latitude\n",
    "        FROM eqs\n",
    "        WHERE mag > 6.5 \n",
    "        \"\"\"\n",
    "spark.sql(query).show(2)"
   ]
  },
  {
   "cell_type": "code",
   "execution_count": null,
   "id": "d6a0bce6",
   "metadata": {},
   "outputs": [],
   "source": []
  },
  {
   "cell_type": "code",
   "execution_count": 11,
   "id": "dbecc399",
   "metadata": {},
   "outputs": [
    {
     "name": "stdout",
     "output_type": "stream",
     "text": [
      "+----+--------+\n",
      "|time|latitude|\n",
      "+----+--------+\n",
      "+----+--------+\n",
      "\n"
     ]
    }
   ],
   "source": [
    "query = \"\"\"\n",
    "        SELECT time, latitude\n",
    "        FROM eqs\n",
    "        WHERE time = 'time'\n",
    "        \"\"\"\n",
    "spark.sql(query).show(10)"
   ]
  },
  {
   "cell_type": "code",
   "execution_count": 12,
   "id": "564439d8",
   "metadata": {},
   "outputs": [
    {
     "data": {
      "text/plain": [
       "869141"
      ]
     },
     "execution_count": 12,
     "metadata": {},
     "output_type": "execute_result"
    }
   ],
   "source": [
    "earthquakes.count()"
   ]
  },
  {
   "cell_type": "code",
   "execution_count": 13,
   "id": "44005b5d",
   "metadata": {},
   "outputs": [],
   "source": [
    "earthquakes = earthquakes.filter(earthquakes.type == \"earthquake\")"
   ]
  },
  {
   "cell_type": "code",
   "execution_count": 14,
   "id": "2deb8499",
   "metadata": {},
   "outputs": [
    {
     "name": "stdout",
     "output_type": "stream",
     "text": [
      "root\n",
      " |-- time: timestamp (nullable = true)\n",
      " |-- latitude: double (nullable = true)\n",
      " |-- longitude: double (nullable = true)\n",
      " |-- depth: double (nullable = true)\n",
      " |-- mag: double (nullable = true)\n",
      " |-- magType: string (nullable = true)\n",
      " |-- nst: integer (nullable = true)\n",
      " |-- gap: double (nullable = true)\n",
      " |-- dmin: double (nullable = true)\n",
      " |-- rms: double (nullable = true)\n",
      " |-- net: string (nullable = true)\n",
      " |-- id: string (nullable = true)\n",
      " |-- updated: timestamp (nullable = true)\n",
      " |-- place: string (nullable = true)\n",
      " |-- type: string (nullable = true)\n",
      " |-- horizontalError: double (nullable = true)\n",
      " |-- depthError: double (nullable = true)\n",
      " |-- magError: double (nullable = true)\n",
      " |-- magNst: integer (nullable = true)\n",
      " |-- status: string (nullable = true)\n",
      " |-- locationSource: string (nullable = true)\n",
      " |-- magSource: string (nullable = true)\n",
      "\n"
     ]
    }
   ],
   "source": [
    "earthquakes.count()\n",
    "\n",
    "earthquakes.printSchema()"
   ]
  },
  {
   "cell_type": "markdown",
   "id": "afb9d58d",
   "metadata": {},
   "source": [
    "## Converting Dataset to Pandas, Further exploration and clearning"
   ]
  },
  {
   "cell_type": "code",
   "execution_count": 15,
   "id": "79ddb7ab",
   "metadata": {
    "scrolled": true
   },
   "outputs": [
    {
     "name": "stderr",
     "output_type": "stream",
     "text": [
      "                                                                                \r"
     ]
    }
   ],
   "source": [
    "df = earthquakes.toPandas()"
   ]
  },
  {
   "cell_type": "code",
   "execution_count": 16,
   "id": "28505ca2",
   "metadata": {},
   "outputs": [],
   "source": [
    "df.dropna(thresh = 10, inplace=True)"
   ]
  },
  {
   "cell_type": "code",
   "execution_count": 17,
   "id": "ada5cf56",
   "metadata": {},
   "outputs": [
    {
     "data": {
      "text/html": [
       "<div>\n",
       "<style scoped>\n",
       "    .dataframe tbody tr th:only-of-type {\n",
       "        vertical-align: middle;\n",
       "    }\n",
       "\n",
       "    .dataframe tbody tr th {\n",
       "        vertical-align: top;\n",
       "    }\n",
       "\n",
       "    .dataframe thead th {\n",
       "        text-align: right;\n",
       "    }\n",
       "</style>\n",
       "<table border=\"1\" class=\"dataframe\">\n",
       "  <thead>\n",
       "    <tr style=\"text-align: right;\">\n",
       "      <th></th>\n",
       "      <th>time</th>\n",
       "      <th>latitude</th>\n",
       "      <th>longitude</th>\n",
       "      <th>depth</th>\n",
       "      <th>mag</th>\n",
       "      <th>magType</th>\n",
       "      <th>nst</th>\n",
       "      <th>gap</th>\n",
       "      <th>dmin</th>\n",
       "      <th>rms</th>\n",
       "      <th>...</th>\n",
       "      <th>updated</th>\n",
       "      <th>place</th>\n",
       "      <th>type</th>\n",
       "      <th>horizontalError</th>\n",
       "      <th>depthError</th>\n",
       "      <th>magError</th>\n",
       "      <th>magNst</th>\n",
       "      <th>status</th>\n",
       "      <th>locationSource</th>\n",
       "      <th>magSource</th>\n",
       "    </tr>\n",
       "  </thead>\n",
       "  <tbody>\n",
       "    <tr>\n",
       "      <th>0</th>\n",
       "      <td>2021-12-11 10:49:51.940</td>\n",
       "      <td>32.383167</td>\n",
       "      <td>-116.809998</td>\n",
       "      <td>13.96</td>\n",
       "      <td>1.70</td>\n",
       "      <td>ml</td>\n",
       "      <td>34.0</td>\n",
       "      <td>216.00</td>\n",
       "      <td>0.142300</td>\n",
       "      <td>0.1900</td>\n",
       "      <td>...</td>\n",
       "      <td>2021-12-11 10:52:06.876</td>\n",
       "      <td>21km NNE of Primo Tapia, B.C., MX</td>\n",
       "      <td>earthquake</td>\n",
       "      <td>0.45</td>\n",
       "      <td>0.66</td>\n",
       "      <td>0.241</td>\n",
       "      <td>8.0</td>\n",
       "      <td>automatic</td>\n",
       "      <td>ci</td>\n",
       "      <td>ci</td>\n",
       "    </tr>\n",
       "    <tr>\n",
       "      <th>1</th>\n",
       "      <td>2021-12-11 10:39:58.850</td>\n",
       "      <td>33.927833</td>\n",
       "      <td>-118.264500</td>\n",
       "      <td>10.30</td>\n",
       "      <td>1.32</td>\n",
       "      <td>ml</td>\n",
       "      <td>12.0</td>\n",
       "      <td>136.00</td>\n",
       "      <td>0.022120</td>\n",
       "      <td>0.2500</td>\n",
       "      <td>...</td>\n",
       "      <td>2021-12-11 10:43:36.944</td>\n",
       "      <td>2km NW of Willowbrook, CA</td>\n",
       "      <td>earthquake</td>\n",
       "      <td>0.70</td>\n",
       "      <td>1.01</td>\n",
       "      <td>0.248</td>\n",
       "      <td>32.0</td>\n",
       "      <td>automatic</td>\n",
       "      <td>ci</td>\n",
       "      <td>ci</td>\n",
       "    </tr>\n",
       "    <tr>\n",
       "      <th>2</th>\n",
       "      <td>2021-12-11 10:07:03.210</td>\n",
       "      <td>33.332500</td>\n",
       "      <td>-116.196333</td>\n",
       "      <td>1.89</td>\n",
       "      <td>2.29</td>\n",
       "      <td>ml</td>\n",
       "      <td>70.0</td>\n",
       "      <td>39.00</td>\n",
       "      <td>0.099380</td>\n",
       "      <td>0.3200</td>\n",
       "      <td>...</td>\n",
       "      <td>2021-12-11 10:12:31.085</td>\n",
       "      <td>17km SSW of Oasis, CA</td>\n",
       "      <td>earthquake</td>\n",
       "      <td>0.29</td>\n",
       "      <td>0.92</td>\n",
       "      <td>0.211</td>\n",
       "      <td>26.0</td>\n",
       "      <td>automatic</td>\n",
       "      <td>ci</td>\n",
       "      <td>ci</td>\n",
       "    </tr>\n",
       "    <tr>\n",
       "      <th>3</th>\n",
       "      <td>2021-12-11 09:58:09.485</td>\n",
       "      <td>38.509800</td>\n",
       "      <td>-119.538000</td>\n",
       "      <td>7.10</td>\n",
       "      <td>1.00</td>\n",
       "      <td>ml</td>\n",
       "      <td>11.0</td>\n",
       "      <td>200.86</td>\n",
       "      <td>0.077000</td>\n",
       "      <td>0.1847</td>\n",
       "      <td>...</td>\n",
       "      <td>2021-12-11 10:02:31.472</td>\n",
       "      <td>5 km W of Walker, California</td>\n",
       "      <td>earthquake</td>\n",
       "      <td>NaN</td>\n",
       "      <td>0.80</td>\n",
       "      <td>0.340</td>\n",
       "      <td>5.0</td>\n",
       "      <td>automatic</td>\n",
       "      <td>nn</td>\n",
       "      <td>nn</td>\n",
       "    </tr>\n",
       "    <tr>\n",
       "      <th>4</th>\n",
       "      <td>2021-12-11 09:50:52.120</td>\n",
       "      <td>38.815834</td>\n",
       "      <td>-122.820663</td>\n",
       "      <td>2.13</td>\n",
       "      <td>1.12</td>\n",
       "      <td>md</td>\n",
       "      <td>25.0</td>\n",
       "      <td>51.00</td>\n",
       "      <td>0.009625</td>\n",
       "      <td>0.0500</td>\n",
       "      <td>...</td>\n",
       "      <td>2021-12-11 10:09:11.897</td>\n",
       "      <td>7km NW of The Geysers, CA</td>\n",
       "      <td>earthquake</td>\n",
       "      <td>0.21</td>\n",
       "      <td>0.40</td>\n",
       "      <td>0.140</td>\n",
       "      <td>3.0</td>\n",
       "      <td>automatic</td>\n",
       "      <td>nc</td>\n",
       "      <td>nc</td>\n",
       "    </tr>\n",
       "  </tbody>\n",
       "</table>\n",
       "<p>5 rows × 22 columns</p>\n",
       "</div>"
      ],
      "text/plain": [
       "                     time   latitude   longitude  depth   mag magType   nst  \\\n",
       "0 2021-12-11 10:49:51.940  32.383167 -116.809998  13.96  1.70      ml  34.0   \n",
       "1 2021-12-11 10:39:58.850  33.927833 -118.264500  10.30  1.32      ml  12.0   \n",
       "2 2021-12-11 10:07:03.210  33.332500 -116.196333   1.89  2.29      ml  70.0   \n",
       "3 2021-12-11 09:58:09.485  38.509800 -119.538000   7.10  1.00      ml  11.0   \n",
       "4 2021-12-11 09:50:52.120  38.815834 -122.820663   2.13  1.12      md  25.0   \n",
       "\n",
       "      gap      dmin     rms  ...                 updated  \\\n",
       "0  216.00  0.142300  0.1900  ... 2021-12-11 10:52:06.876   \n",
       "1  136.00  0.022120  0.2500  ... 2021-12-11 10:43:36.944   \n",
       "2   39.00  0.099380  0.3200  ... 2021-12-11 10:12:31.085   \n",
       "3  200.86  0.077000  0.1847  ... 2021-12-11 10:02:31.472   \n",
       "4   51.00  0.009625  0.0500  ... 2021-12-11 10:09:11.897   \n",
       "\n",
       "                               place        type horizontalError depthError  \\\n",
       "0  21km NNE of Primo Tapia, B.C., MX  earthquake            0.45       0.66   \n",
       "1          2km NW of Willowbrook, CA  earthquake            0.70       1.01   \n",
       "2              17km SSW of Oasis, CA  earthquake            0.29       0.92   \n",
       "3       5 km W of Walker, California  earthquake             NaN       0.80   \n",
       "4          7km NW of The Geysers, CA  earthquake            0.21       0.40   \n",
       "\n",
       "   magError  magNst     status  locationSource magSource  \n",
       "0     0.241     8.0  automatic              ci        ci  \n",
       "1     0.248    32.0  automatic              ci        ci  \n",
       "2     0.211    26.0  automatic              ci        ci  \n",
       "3     0.340     5.0  automatic              nn        nn  \n",
       "4     0.140     3.0  automatic              nc        nc  \n",
       "\n",
       "[5 rows x 22 columns]"
      ]
     },
     "execution_count": 17,
     "metadata": {},
     "output_type": "execute_result"
    }
   ],
   "source": [
    "df.head(5)"
   ]
  },
  {
   "cell_type": "code",
   "execution_count": 18,
   "id": "85d71adf",
   "metadata": {},
   "outputs": [
    {
     "data": {
      "text/html": [
       "<div>\n",
       "<style scoped>\n",
       "    .dataframe tbody tr th:only-of-type {\n",
       "        vertical-align: middle;\n",
       "    }\n",
       "\n",
       "    .dataframe tbody tr th {\n",
       "        vertical-align: top;\n",
       "    }\n",
       "\n",
       "    .dataframe thead th {\n",
       "        text-align: right;\n",
       "    }\n",
       "</style>\n",
       "<table border=\"1\" class=\"dataframe\">\n",
       "  <thead>\n",
       "    <tr style=\"text-align: right;\">\n",
       "      <th></th>\n",
       "      <th>time</th>\n",
       "      <th>latitude</th>\n",
       "      <th>longitude</th>\n",
       "      <th>depth</th>\n",
       "      <th>mag</th>\n",
       "      <th>magType</th>\n",
       "      <th>nst</th>\n",
       "      <th>gap</th>\n",
       "      <th>dmin</th>\n",
       "      <th>rms</th>\n",
       "      <th>...</th>\n",
       "      <th>updated</th>\n",
       "      <th>place</th>\n",
       "      <th>type</th>\n",
       "      <th>horizontalError</th>\n",
       "      <th>depthError</th>\n",
       "      <th>magError</th>\n",
       "      <th>magNst</th>\n",
       "      <th>status</th>\n",
       "      <th>locationSource</th>\n",
       "      <th>magSource</th>\n",
       "    </tr>\n",
       "  </thead>\n",
       "  <tbody>\n",
       "    <tr>\n",
       "      <th>0</th>\n",
       "      <td>2021-12-11 10:49:51.940</td>\n",
       "      <td>32.383167</td>\n",
       "      <td>-116.809998</td>\n",
       "      <td>13.96</td>\n",
       "      <td>1.70</td>\n",
       "      <td>ml</td>\n",
       "      <td>34.0</td>\n",
       "      <td>216.00</td>\n",
       "      <td>0.142300</td>\n",
       "      <td>0.1900</td>\n",
       "      <td>...</td>\n",
       "      <td>2021-12-11 10:52:06.876</td>\n",
       "      <td>21km NNE of Primo Tapia, B.C., MX</td>\n",
       "      <td>earthquake</td>\n",
       "      <td>0.45</td>\n",
       "      <td>0.66</td>\n",
       "      <td>0.241</td>\n",
       "      <td>8.0</td>\n",
       "      <td>automatic</td>\n",
       "      <td>ci</td>\n",
       "      <td>ci</td>\n",
       "    </tr>\n",
       "    <tr>\n",
       "      <th>1</th>\n",
       "      <td>2021-12-11 10:39:58.850</td>\n",
       "      <td>33.927833</td>\n",
       "      <td>-118.264500</td>\n",
       "      <td>10.30</td>\n",
       "      <td>1.32</td>\n",
       "      <td>ml</td>\n",
       "      <td>12.0</td>\n",
       "      <td>136.00</td>\n",
       "      <td>0.022120</td>\n",
       "      <td>0.2500</td>\n",
       "      <td>...</td>\n",
       "      <td>2021-12-11 10:43:36.944</td>\n",
       "      <td>2km NW of Willowbrook, CA</td>\n",
       "      <td>earthquake</td>\n",
       "      <td>0.70</td>\n",
       "      <td>1.01</td>\n",
       "      <td>0.248</td>\n",
       "      <td>32.0</td>\n",
       "      <td>automatic</td>\n",
       "      <td>ci</td>\n",
       "      <td>ci</td>\n",
       "    </tr>\n",
       "    <tr>\n",
       "      <th>2</th>\n",
       "      <td>2021-12-11 10:07:03.210</td>\n",
       "      <td>33.332500</td>\n",
       "      <td>-116.196333</td>\n",
       "      <td>1.89</td>\n",
       "      <td>2.29</td>\n",
       "      <td>ml</td>\n",
       "      <td>70.0</td>\n",
       "      <td>39.00</td>\n",
       "      <td>0.099380</td>\n",
       "      <td>0.3200</td>\n",
       "      <td>...</td>\n",
       "      <td>2021-12-11 10:12:31.085</td>\n",
       "      <td>17km SSW of Oasis, CA</td>\n",
       "      <td>earthquake</td>\n",
       "      <td>0.29</td>\n",
       "      <td>0.92</td>\n",
       "      <td>0.211</td>\n",
       "      <td>26.0</td>\n",
       "      <td>automatic</td>\n",
       "      <td>ci</td>\n",
       "      <td>ci</td>\n",
       "    </tr>\n",
       "    <tr>\n",
       "      <th>3</th>\n",
       "      <td>2021-12-11 09:58:09.485</td>\n",
       "      <td>38.509800</td>\n",
       "      <td>-119.538000</td>\n",
       "      <td>7.10</td>\n",
       "      <td>1.00</td>\n",
       "      <td>ml</td>\n",
       "      <td>11.0</td>\n",
       "      <td>200.86</td>\n",
       "      <td>0.077000</td>\n",
       "      <td>0.1847</td>\n",
       "      <td>...</td>\n",
       "      <td>2021-12-11 10:02:31.472</td>\n",
       "      <td>5 km W of Walker, California</td>\n",
       "      <td>earthquake</td>\n",
       "      <td>NaN</td>\n",
       "      <td>0.80</td>\n",
       "      <td>0.340</td>\n",
       "      <td>5.0</td>\n",
       "      <td>automatic</td>\n",
       "      <td>nn</td>\n",
       "      <td>nn</td>\n",
       "    </tr>\n",
       "    <tr>\n",
       "      <th>4</th>\n",
       "      <td>2021-12-11 09:50:52.120</td>\n",
       "      <td>38.815834</td>\n",
       "      <td>-122.820663</td>\n",
       "      <td>2.13</td>\n",
       "      <td>1.12</td>\n",
       "      <td>md</td>\n",
       "      <td>25.0</td>\n",
       "      <td>51.00</td>\n",
       "      <td>0.009625</td>\n",
       "      <td>0.0500</td>\n",
       "      <td>...</td>\n",
       "      <td>2021-12-11 10:09:11.897</td>\n",
       "      <td>7km NW of The Geysers, CA</td>\n",
       "      <td>earthquake</td>\n",
       "      <td>0.21</td>\n",
       "      <td>0.40</td>\n",
       "      <td>0.140</td>\n",
       "      <td>3.0</td>\n",
       "      <td>automatic</td>\n",
       "      <td>nc</td>\n",
       "      <td>nc</td>\n",
       "    </tr>\n",
       "  </tbody>\n",
       "</table>\n",
       "<p>5 rows × 22 columns</p>\n",
       "</div>"
      ],
      "text/plain": [
       "                     time   latitude   longitude  depth   mag magType   nst  \\\n",
       "0 2021-12-11 10:49:51.940  32.383167 -116.809998  13.96  1.70      ml  34.0   \n",
       "1 2021-12-11 10:39:58.850  33.927833 -118.264500  10.30  1.32      ml  12.0   \n",
       "2 2021-12-11 10:07:03.210  33.332500 -116.196333   1.89  2.29      ml  70.0   \n",
       "3 2021-12-11 09:58:09.485  38.509800 -119.538000   7.10  1.00      ml  11.0   \n",
       "4 2021-12-11 09:50:52.120  38.815834 -122.820663   2.13  1.12      md  25.0   \n",
       "\n",
       "      gap      dmin     rms  ...                 updated  \\\n",
       "0  216.00  0.142300  0.1900  ... 2021-12-11 10:52:06.876   \n",
       "1  136.00  0.022120  0.2500  ... 2021-12-11 10:43:36.944   \n",
       "2   39.00  0.099380  0.3200  ... 2021-12-11 10:12:31.085   \n",
       "3  200.86  0.077000  0.1847  ... 2021-12-11 10:02:31.472   \n",
       "4   51.00  0.009625  0.0500  ... 2021-12-11 10:09:11.897   \n",
       "\n",
       "                               place        type horizontalError depthError  \\\n",
       "0  21km NNE of Primo Tapia, B.C., MX  earthquake            0.45       0.66   \n",
       "1          2km NW of Willowbrook, CA  earthquake            0.70       1.01   \n",
       "2              17km SSW of Oasis, CA  earthquake            0.29       0.92   \n",
       "3       5 km W of Walker, California  earthquake             NaN       0.80   \n",
       "4          7km NW of The Geysers, CA  earthquake            0.21       0.40   \n",
       "\n",
       "   magError  magNst     status  locationSource magSource  \n",
       "0     0.241     8.0  automatic              ci        ci  \n",
       "1     0.248    32.0  automatic              ci        ci  \n",
       "2     0.211    26.0  automatic              ci        ci  \n",
       "3     0.340     5.0  automatic              nn        nn  \n",
       "4     0.140     3.0  automatic              nc        nc  \n",
       "\n",
       "[5 rows x 22 columns]"
      ]
     },
     "execution_count": 18,
     "metadata": {},
     "output_type": "execute_result"
    }
   ],
   "source": [
    "df.head()"
   ]
  },
  {
   "cell_type": "code",
   "execution_count": 19,
   "id": "e95adca0",
   "metadata": {},
   "outputs": [
    {
     "data": {
      "text/plain": [
       "0        2021-12-11 10:49:51.940\n",
       "1        2021-12-11 10:39:58.850\n",
       "2        2021-12-11 10:07:03.210\n",
       "3        2021-12-11 09:58:09.485\n",
       "4        2021-12-11 09:50:52.120\n",
       "                   ...          \n",
       "847226   2020-02-29 19:39:30.310\n",
       "847227   2020-02-29 19:39:17.370\n",
       "847228   2020-02-29 19:29:45.480\n",
       "847229   2020-02-29 19:27:07.370\n",
       "847230   2020-02-29 19:09:23.230\n",
       "Name: time, Length: 847231, dtype: datetime64[ns]"
      ]
     },
     "execution_count": 19,
     "metadata": {},
     "output_type": "execute_result"
    }
   ],
   "source": [
    "df[\"time\"]"
   ]
  },
  {
   "cell_type": "code",
   "execution_count": 20,
   "id": "437e885c",
   "metadata": {},
   "outputs": [],
   "source": [
    "df[\"year\"] = df[\"time\"].dt.year"
   ]
  },
  {
   "cell_type": "code",
   "execution_count": 21,
   "id": "fc987f5f",
   "metadata": {
    "scrolled": true
   },
   "outputs": [
    {
     "data": {
      "text/plain": [
       "0         2021\n",
       "1         2021\n",
       "2         2021\n",
       "3         2021\n",
       "4         2021\n",
       "          ... \n",
       "847226    2020\n",
       "847227    2020\n",
       "847228    2020\n",
       "847229    2020\n",
       "847230    2020\n",
       "Name: year, Length: 847231, dtype: int64"
      ]
     },
     "execution_count": 21,
     "metadata": {},
     "output_type": "execute_result"
    }
   ],
   "source": [
    "df[\"year\"].astype(int)"
   ]
  },
  {
   "cell_type": "code",
   "execution_count": 22,
   "id": "dafbba1b",
   "metadata": {},
   "outputs": [],
   "source": [
    "mask3 = df['year'] != 2009"
   ]
  },
  {
   "cell_type": "code",
   "execution_count": 23,
   "id": "0ddea052",
   "metadata": {},
   "outputs": [],
   "source": [
    "df = df[mask3]"
   ]
  },
  {
   "cell_type": "code",
   "execution_count": 24,
   "id": "f6df4f5c",
   "metadata": {},
   "outputs": [],
   "source": [
    "year_counts = df.value_counts('year')"
   ]
  },
  {
   "cell_type": "code",
   "execution_count": 25,
   "id": "648738c8",
   "metadata": {},
   "outputs": [
    {
     "data": {
      "text/plain": [
       "pandas.core.series.Series"
      ]
     },
     "execution_count": 25,
     "metadata": {},
     "output_type": "execute_result"
    }
   ],
   "source": [
    "type(year_counts)"
   ]
  },
  {
   "cell_type": "code",
   "execution_count": 26,
   "id": "627a6c2c",
   "metadata": {},
   "outputs": [
    {
     "data": {
      "text/plain": [
       "pandas.core.series.Series"
      ]
     },
     "execution_count": 26,
     "metadata": {},
     "output_type": "execute_result"
    }
   ],
   "source": [
    "type(year_counts)"
   ]
  },
  {
   "cell_type": "code",
   "execution_count": 27,
   "id": "6a6bae50",
   "metadata": {},
   "outputs": [],
   "source": [
    "df.year = df.year.astype(int)"
   ]
  },
  {
   "cell_type": "code",
   "execution_count": 28,
   "id": "c961b2ed",
   "metadata": {},
   "outputs": [
    {
     "data": {
      "text/plain": [
       "0         2021\n",
       "1         2021\n",
       "2         2021\n",
       "3         2021\n",
       "4         2021\n",
       "          ... \n",
       "847226    2020\n",
       "847227    2020\n",
       "847228    2020\n",
       "847229    2020\n",
       "847230    2020\n",
       "Name: year, Length: 847190, dtype: int64"
      ]
     },
     "execution_count": 28,
     "metadata": {},
     "output_type": "execute_result"
    }
   ],
   "source": [
    "df.year"
   ]
  },
  {
   "cell_type": "code",
   "execution_count": 29,
   "id": "c2c86a3b",
   "metadata": {},
   "outputs": [
    {
     "data": {
      "text/plain": [
       "0         2021\n",
       "1         2021\n",
       "2         2021\n",
       "3         2021\n",
       "4         2021\n",
       "          ... \n",
       "847226    2020\n",
       "847227    2020\n",
       "847228    2020\n",
       "847229    2020\n",
       "847230    2020\n",
       "Name: year, Length: 847190, dtype: int64"
      ]
     },
     "execution_count": 29,
     "metadata": {},
     "output_type": "execute_result"
    }
   ],
   "source": [
    "mask = df[\"year\"] > 2009\n",
    "df_a2009 = df[mask]\n",
    "df_a2009.year"
   ]
  },
  {
   "cell_type": "code",
   "execution_count": 30,
   "id": "f1996fba",
   "metadata": {},
   "outputs": [],
   "source": [
    "year_groups = df.groupby([df_a2009[\"year\"]])['year'].count()\n",
    "x = df_a2009[\"year\"].value_counts(sort=False, ascending = False)"
   ]
  },
  {
   "cell_type": "code",
   "execution_count": 31,
   "id": "173c4cf3",
   "metadata": {},
   "outputs": [
    {
     "data": {
      "text/plain": [
       "pandas.core.series.Series"
      ]
     },
     "execution_count": 31,
     "metadata": {},
     "output_type": "execute_result"
    }
   ],
   "source": [
    "type(x)"
   ]
  },
  {
   "cell_type": "code",
   "execution_count": 32,
   "id": "6db97410",
   "metadata": {},
   "outputs": [
    {
     "data": {
      "text/plain": [
       "2021     71778\n",
       "2020     98804\n",
       "2019    101297\n",
       "2018     55648\n",
       "2017     66922\n",
       "2016     60632\n",
       "2015     62988\n",
       "2014     67807\n",
       "2013     64319\n",
       "2012     57687\n",
       "2011     59758\n",
       "2010     79550\n",
       "Name: year, dtype: int64"
      ]
     },
     "execution_count": 32,
     "metadata": {},
     "output_type": "execute_result"
    }
   ],
   "source": [
    "x"
   ]
  },
  {
   "cell_type": "code",
   "execution_count": 33,
   "id": "f502d91a",
   "metadata": {},
   "outputs": [],
   "source": [
    "x = x.reindex(index=x.index[::-1])"
   ]
  },
  {
   "cell_type": "code",
   "execution_count": 34,
   "id": "ee0c2b48",
   "metadata": {},
   "outputs": [
    {
     "data": {
      "text/plain": [
       "2010     79550\n",
       "2011     59758\n",
       "2012     57687\n",
       "2013     64319\n",
       "2014     67807\n",
       "2015     62988\n",
       "2016     60632\n",
       "2017     66922\n",
       "2018     55648\n",
       "2019    101297\n",
       "2020     98804\n",
       "2021     71778\n",
       "Name: year, dtype: int64"
      ]
     },
     "execution_count": 34,
     "metadata": {},
     "output_type": "execute_result"
    }
   ],
   "source": [
    "x"
   ]
  },
  {
   "cell_type": "code",
   "execution_count": 35,
   "id": "3694ae69",
   "metadata": {},
   "outputs": [],
   "source": [
    "x_dict = dict(x)"
   ]
  },
  {
   "cell_type": "code",
   "execution_count": 36,
   "id": "f719d8fa",
   "metadata": {},
   "outputs": [
    {
     "data": {
      "text/plain": [
       "{2010: 79550,\n",
       " 2011: 59758,\n",
       " 2012: 57687,\n",
       " 2013: 64319,\n",
       " 2014: 67807,\n",
       " 2015: 62988,\n",
       " 2016: 60632,\n",
       " 2017: 66922,\n",
       " 2018: 55648,\n",
       " 2019: 101297,\n",
       " 2020: 98804,\n",
       " 2021: 71778}"
      ]
     },
     "execution_count": 36,
     "metadata": {},
     "output_type": "execute_result"
    }
   ],
   "source": [
    "x_dict"
   ]
  },
  {
   "cell_type": "code",
   "execution_count": 37,
   "id": "8a0a247a",
   "metadata": {},
   "outputs": [
    {
     "data": {
      "text/plain": [
       "Text(0.5, 0.98, 'Categorical Plotting')"
      ]
     },
     "execution_count": 37,
     "metadata": {},
     "output_type": "execute_result"
    },
    {
     "data": {
      "image/png": "[encoded data removed]",
      "text/plain": [
       "<Figure size 648x216 with 2 Axes>"
      ]
     },
     "metadata": {
      "needs_background": "light"
     },
     "output_type": "display_data"
    }
   ],
   "source": [
    "## Test plots, \n",
    "fig, axs = plt.subplots(1, 2, figsize=(9, 3))\n",
    "axs[0].bar(x_dict.keys(), x_dict.values())\n",
    "axs[1].hist(x_dict.values())\n",
    "fig.suptitle('Categorical Plotting')\n"
   ]
  },
  {
   "cell_type": "code",
   "execution_count": 38,
   "id": "fc865dfe",
   "metadata": {
    "scrolled": true
   },
   "outputs": [
    {
     "data": {
      "image/png": "[encoded data removed]",
      "text/plain": [
       "<Figure size 720x360 with 1 Axes>"
      ]
     },
     "metadata": {
      "needs_background": "light"
     },
     "output_type": "display_data"
    }
   ],
   "source": [
    "x.plot(kind='bar',figsize=(10,5),legend=None)\n",
    "plt.title(\"Number of Earthquakes Recorded in the US per Year\")\n",
    "plt.xlabel(\"Year\")\n",
    "plt.ylabel(\"Number of Earthquakes\")\n",
    "\n",
    "plt.show()\n",
    "\n",
    "\n"
   ]
  },
  {
   "cell_type": "code",
   "execution_count": 39,
   "id": "0d4db4c4",
   "metadata": {},
   "outputs": [],
   "source": [
    "mask2 = df_a2009[\"mag\"] >= 5"
   ]
  },
  {
   "cell_type": "code",
   "execution_count": 40,
   "id": "7adcf109",
   "metadata": {},
   "outputs": [],
   "source": [
    "df_over_5 = df_a2009[mask2]"
   ]
  },
  {
   "cell_type": "code",
   "execution_count": 41,
   "id": "885b81b1",
   "metadata": {},
   "outputs": [],
   "source": [
    "y = df_over_5[\"year\"].value_counts(sort=False, ascending = False)"
   ]
  },
  {
   "cell_type": "code",
   "execution_count": 42,
   "id": "9a5b1a9d",
   "metadata": {},
   "outputs": [
    {
     "data": {
      "image/png": "[encoded data removed]",
      "text/plain": [
       "<Figure size 720x360 with 1 Axes>"
      ]
     },
     "metadata": {
      "needs_background": "light"
     },
     "output_type": "display_data"
    }
   ],
   "source": [
    "y.plot(kind='bar',figsize=(10,5),legend=None)\n",
    "plt.title(\"Number of Earthquakes Recorded in the US per Year with a Magnitude of 5 or Greater\")\n",
    "plt.xlabel(\"Year\")\n",
    "plt.ylabel(\"Number of Earthquakes\")\n",
    "\n",
    "plt.show()\n",
    "\n",
    "\n"
   ]
  },
  {
   "cell_type": "code",
   "execution_count": 43,
   "id": "7c17c579",
   "metadata": {},
   "outputs": [
    {
     "name": "stdout",
     "output_type": "stream",
     "text": [
      "year\n",
      "2010     79550\n",
      "2011     59758\n",
      "2012     57687\n",
      "2013     64319\n",
      "2014     67807\n",
      "2015     62988\n",
      "2016     60632\n",
      "2017     66922\n",
      "2018     55648\n",
      "2019    101297\n",
      "2020     98804\n",
      "2021     71778\n",
      "Name: year, dtype: int64\n"
     ]
    }
   ],
   "source": [
    "print(year_groups)"
   ]
  },
  {
   "cell_type": "code",
   "execution_count": 44,
   "id": "182c3acf",
   "metadata": {},
   "outputs": [
    {
     "data": {
      "text/plain": [
       "pandas.core.series.Series"
      ]
     },
     "execution_count": 44,
     "metadata": {},
     "output_type": "execute_result"
    }
   ],
   "source": [
    "type(year_groups)"
   ]
  },
  {
   "cell_type": "code",
   "execution_count": 45,
   "id": "3353c60e",
   "metadata": {},
   "outputs": [
    {
     "data": {
      "text/plain": [
       "array([ 79550,  59758,  57687,  64319,  67807,  62988,  60632,  66922,\n",
       "        55648, 101297,  98804,  71778])"
      ]
     },
     "execution_count": 45,
     "metadata": {},
     "output_type": "execute_result"
    }
   ],
   "source": [
    "year_groups.to_numpy()"
   ]
  },
  {
   "cell_type": "code",
   "execution_count": 46,
   "id": "eb603014",
   "metadata": {},
   "outputs": [
    {
     "data": {
      "text/plain": [
       "pandas.core.series.Series"
      ]
     },
     "execution_count": 46,
     "metadata": {},
     "output_type": "execute_result"
    }
   ],
   "source": [
    "type(year_groups)"
   ]
  },
  {
   "cell_type": "code",
   "execution_count": 47,
   "id": "8400f5fe",
   "metadata": {},
   "outputs": [
    {
     "data": {
      "text/plain": [
       "time               2020-02-26 09:38:43.650000\n",
       "latitude                               38.805\n",
       "longitude                           -122.8245\n",
       "depth                                    2.09\n",
       "mag                                      0.25\n",
       "magType                                    md\n",
       "nst                                      10.0\n",
       "gap                                      72.0\n",
       "dmin                                 0.005318\n",
       "rms                                      0.02\n",
       "net                                        nc\n",
       "id                                 nc73346305\n",
       "updated            2020-02-26 22:34:04.031000\n",
       "place              7km WNW of The Geysers, CA\n",
       "type                               earthquake\n",
       "horizontalError                          0.39\n",
       "depthError                               0.82\n",
       "magError                                  NaN\n",
       "magNst                                    1.0\n",
       "status                               reviewed\n",
       "locationSource                             nc\n",
       "magSource                                  nc\n",
       "year                                     2020\n",
       "Name: 19564, dtype: object"
      ]
     },
     "execution_count": 47,
     "metadata": {},
     "output_type": "execute_result"
    }
   ],
   "source": [
    "df.iloc[19564]"
   ]
  },
  {
   "cell_type": "code",
   "execution_count": 48,
   "id": "34564d08",
   "metadata": {},
   "outputs": [
    {
     "data": {
      "text/html": [
       "<div>\n",
       "<style scoped>\n",
       "    .dataframe tbody tr th:only-of-type {\n",
       "        vertical-align: middle;\n",
       "    }\n",
       "\n",
       "    .dataframe tbody tr th {\n",
       "        vertical-align: top;\n",
       "    }\n",
       "\n",
       "    .dataframe thead th {\n",
       "        text-align: right;\n",
       "    }\n",
       "</style>\n",
       "<table border=\"1\" class=\"dataframe\">\n",
       "  <thead>\n",
       "    <tr style=\"text-align: right;\">\n",
       "      <th></th>\n",
       "      <th>time</th>\n",
       "      <th>latitude</th>\n",
       "      <th>longitude</th>\n",
       "      <th>depth</th>\n",
       "      <th>mag</th>\n",
       "      <th>magType</th>\n",
       "      <th>nst</th>\n",
       "      <th>gap</th>\n",
       "      <th>dmin</th>\n",
       "      <th>rms</th>\n",
       "      <th>...</th>\n",
       "      <th>place</th>\n",
       "      <th>type</th>\n",
       "      <th>horizontalError</th>\n",
       "      <th>depthError</th>\n",
       "      <th>magError</th>\n",
       "      <th>magNst</th>\n",
       "      <th>status</th>\n",
       "      <th>locationSource</th>\n",
       "      <th>magSource</th>\n",
       "      <th>year</th>\n",
       "    </tr>\n",
       "  </thead>\n",
       "  <tbody>\n",
       "    <tr>\n",
       "      <th>0</th>\n",
       "      <td>2021-12-11 10:49:51.940</td>\n",
       "      <td>32.383167</td>\n",
       "      <td>-116.809998</td>\n",
       "      <td>13.96</td>\n",
       "      <td>1.70</td>\n",
       "      <td>ml</td>\n",
       "      <td>34.0</td>\n",
       "      <td>216.00</td>\n",
       "      <td>0.142300</td>\n",
       "      <td>0.1900</td>\n",
       "      <td>...</td>\n",
       "      <td>21km NNE of Primo Tapia, B.C., MX</td>\n",
       "      <td>earthquake</td>\n",
       "      <td>0.45</td>\n",
       "      <td>0.66</td>\n",
       "      <td>0.241</td>\n",
       "      <td>8.0</td>\n",
       "      <td>automatic</td>\n",
       "      <td>ci</td>\n",
       "      <td>ci</td>\n",
       "      <td>2021</td>\n",
       "    </tr>\n",
       "    <tr>\n",
       "      <th>1</th>\n",
       "      <td>2021-12-11 10:39:58.850</td>\n",
       "      <td>33.927833</td>\n",
       "      <td>-118.264500</td>\n",
       "      <td>10.30</td>\n",
       "      <td>1.32</td>\n",
       "      <td>ml</td>\n",
       "      <td>12.0</td>\n",
       "      <td>136.00</td>\n",
       "      <td>0.022120</td>\n",
       "      <td>0.2500</td>\n",
       "      <td>...</td>\n",
       "      <td>2km NW of Willowbrook, CA</td>\n",
       "      <td>earthquake</td>\n",
       "      <td>0.70</td>\n",
       "      <td>1.01</td>\n",
       "      <td>0.248</td>\n",
       "      <td>32.0</td>\n",
       "      <td>automatic</td>\n",
       "      <td>ci</td>\n",
       "      <td>ci</td>\n",
       "      <td>2021</td>\n",
       "    </tr>\n",
       "    <tr>\n",
       "      <th>2</th>\n",
       "      <td>2021-12-11 10:07:03.210</td>\n",
       "      <td>33.332500</td>\n",
       "      <td>-116.196333</td>\n",
       "      <td>1.89</td>\n",
       "      <td>2.29</td>\n",
       "      <td>ml</td>\n",
       "      <td>70.0</td>\n",
       "      <td>39.00</td>\n",
       "      <td>0.099380</td>\n",
       "      <td>0.3200</td>\n",
       "      <td>...</td>\n",
       "      <td>17km SSW of Oasis, CA</td>\n",
       "      <td>earthquake</td>\n",
       "      <td>0.29</td>\n",
       "      <td>0.92</td>\n",
       "      <td>0.211</td>\n",
       "      <td>26.0</td>\n",
       "      <td>automatic</td>\n",
       "      <td>ci</td>\n",
       "      <td>ci</td>\n",
       "      <td>2021</td>\n",
       "    </tr>\n",
       "    <tr>\n",
       "      <th>3</th>\n",
       "      <td>2021-12-11 09:58:09.485</td>\n",
       "      <td>38.509800</td>\n",
       "      <td>-119.538000</td>\n",
       "      <td>7.10</td>\n",
       "      <td>1.00</td>\n",
       "      <td>ml</td>\n",
       "      <td>11.0</td>\n",
       "      <td>200.86</td>\n",
       "      <td>0.077000</td>\n",
       "      <td>0.1847</td>\n",
       "      <td>...</td>\n",
       "      <td>5 km W of Walker, California</td>\n",
       "      <td>earthquake</td>\n",
       "      <td>NaN</td>\n",
       "      <td>0.80</td>\n",
       "      <td>0.340</td>\n",
       "      <td>5.0</td>\n",
       "      <td>automatic</td>\n",
       "      <td>nn</td>\n",
       "      <td>nn</td>\n",
       "      <td>2021</td>\n",
       "    </tr>\n",
       "    <tr>\n",
       "      <th>4</th>\n",
       "      <td>2021-12-11 09:50:52.120</td>\n",
       "      <td>38.815834</td>\n",
       "      <td>-122.820663</td>\n",
       "      <td>2.13</td>\n",
       "      <td>1.12</td>\n",
       "      <td>md</td>\n",
       "      <td>25.0</td>\n",
       "      <td>51.00</td>\n",
       "      <td>0.009625</td>\n",
       "      <td>0.0500</td>\n",
       "      <td>...</td>\n",
       "      <td>7km NW of The Geysers, CA</td>\n",
       "      <td>earthquake</td>\n",
       "      <td>0.21</td>\n",
       "      <td>0.40</td>\n",
       "      <td>0.140</td>\n",
       "      <td>3.0</td>\n",
       "      <td>automatic</td>\n",
       "      <td>nc</td>\n",
       "      <td>nc</td>\n",
       "      <td>2021</td>\n",
       "    </tr>\n",
       "    <tr>\n",
       "      <th>...</th>\n",
       "      <td>...</td>\n",
       "      <td>...</td>\n",
       "      <td>...</td>\n",
       "      <td>...</td>\n",
       "      <td>...</td>\n",
       "      <td>...</td>\n",
       "      <td>...</td>\n",
       "      <td>...</td>\n",
       "      <td>...</td>\n",
       "      <td>...</td>\n",
       "      <td>...</td>\n",
       "      <td>...</td>\n",
       "      <td>...</td>\n",
       "      <td>...</td>\n",
       "      <td>...</td>\n",
       "      <td>...</td>\n",
       "      <td>...</td>\n",
       "      <td>...</td>\n",
       "      <td>...</td>\n",
       "      <td>...</td>\n",
       "      <td>...</td>\n",
       "    </tr>\n",
       "    <tr>\n",
       "      <th>847226</th>\n",
       "      <td>2020-02-29 19:39:30.310</td>\n",
       "      <td>33.649167</td>\n",
       "      <td>-116.706500</td>\n",
       "      <td>13.63</td>\n",
       "      <td>0.21</td>\n",
       "      <td>ml</td>\n",
       "      <td>17.0</td>\n",
       "      <td>73.00</td>\n",
       "      <td>0.033640</td>\n",
       "      <td>0.1000</td>\n",
       "      <td>...</td>\n",
       "      <td>10km S of Idyllwild, CA</td>\n",
       "      <td>earthquake</td>\n",
       "      <td>0.34</td>\n",
       "      <td>0.44</td>\n",
       "      <td>0.132</td>\n",
       "      <td>8.0</td>\n",
       "      <td>reviewed</td>\n",
       "      <td>ci</td>\n",
       "      <td>ci</td>\n",
       "      <td>2020</td>\n",
       "    </tr>\n",
       "    <tr>\n",
       "      <th>847227</th>\n",
       "      <td>2020-02-29 19:39:17.370</td>\n",
       "      <td>33.648833</td>\n",
       "      <td>-116.705500</td>\n",
       "      <td>13.74</td>\n",
       "      <td>0.87</td>\n",
       "      <td>ml</td>\n",
       "      <td>26.0</td>\n",
       "      <td>70.00</td>\n",
       "      <td>0.033160</td>\n",
       "      <td>0.1400</td>\n",
       "      <td>...</td>\n",
       "      <td>10km S of Idyllwild, CA</td>\n",
       "      <td>earthquake</td>\n",
       "      <td>0.28</td>\n",
       "      <td>0.38</td>\n",
       "      <td>0.177</td>\n",
       "      <td>15.0</td>\n",
       "      <td>reviewed</td>\n",
       "      <td>ci</td>\n",
       "      <td>ci</td>\n",
       "      <td>2020</td>\n",
       "    </tr>\n",
       "    <tr>\n",
       "      <th>847228</th>\n",
       "      <td>2020-02-29 19:29:45.480</td>\n",
       "      <td>38.792168</td>\n",
       "      <td>-122.744003</td>\n",
       "      <td>1.71</td>\n",
       "      <td>0.57</td>\n",
       "      <td>md</td>\n",
       "      <td>9.0</td>\n",
       "      <td>117.00</td>\n",
       "      <td>0.010580</td>\n",
       "      <td>0.0100</td>\n",
       "      <td>...</td>\n",
       "      <td>2km NNE of The Geysers, CA</td>\n",
       "      <td>earthquake</td>\n",
       "      <td>0.46</td>\n",
       "      <td>0.82</td>\n",
       "      <td>NaN</td>\n",
       "      <td>1.0</td>\n",
       "      <td>automatic</td>\n",
       "      <td>nc</td>\n",
       "      <td>nc</td>\n",
       "      <td>2020</td>\n",
       "    </tr>\n",
       "    <tr>\n",
       "      <th>847229</th>\n",
       "      <td>2020-02-29 19:27:07.370</td>\n",
       "      <td>35.937833</td>\n",
       "      <td>-117.682667</td>\n",
       "      <td>4.08</td>\n",
       "      <td>0.85</td>\n",
       "      <td>ml</td>\n",
       "      <td>16.0</td>\n",
       "      <td>56.00</td>\n",
       "      <td>0.028060</td>\n",
       "      <td>0.0900</td>\n",
       "      <td>...</td>\n",
       "      <td>20km E of Little Lake, CA</td>\n",
       "      <td>earthquake</td>\n",
       "      <td>0.16</td>\n",
       "      <td>0.27</td>\n",
       "      <td>0.193</td>\n",
       "      <td>7.0</td>\n",
       "      <td>reviewed</td>\n",
       "      <td>ci</td>\n",
       "      <td>ci</td>\n",
       "      <td>2020</td>\n",
       "    </tr>\n",
       "    <tr>\n",
       "      <th>847230</th>\n",
       "      <td>2020-02-29 19:09:23.230</td>\n",
       "      <td>38.806168</td>\n",
       "      <td>-122.737167</td>\n",
       "      <td>2.37</td>\n",
       "      <td>0.80</td>\n",
       "      <td>md</td>\n",
       "      <td>12.0</td>\n",
       "      <td>83.00</td>\n",
       "      <td>0.018460</td>\n",
       "      <td>0.0300</td>\n",
       "      <td>...</td>\n",
       "      <td>2km SW of Cobb, CA</td>\n",
       "      <td>earthquake</td>\n",
       "      <td>0.31</td>\n",
       "      <td>0.77</td>\n",
       "      <td>0.200</td>\n",
       "      <td>4.0</td>\n",
       "      <td>automatic</td>\n",
       "      <td>nc</td>\n",
       "      <td>nc</td>\n",
       "      <td>2020</td>\n",
       "    </tr>\n",
       "  </tbody>\n",
       "</table>\n",
       "<p>847190 rows × 23 columns</p>\n",
       "</div>"
      ],
      "text/plain": [
       "                          time   latitude   longitude  depth   mag magType  \\\n",
       "0      2021-12-11 10:49:51.940  32.383167 -116.809998  13.96  1.70      ml   \n",
       "1      2021-12-11 10:39:58.850  33.927833 -118.264500  10.30  1.32      ml   \n",
       "2      2021-12-11 10:07:03.210  33.332500 -116.196333   1.89  2.29      ml   \n",
       "3      2021-12-11 09:58:09.485  38.509800 -119.538000   7.10  1.00      ml   \n",
       "4      2021-12-11 09:50:52.120  38.815834 -122.820663   2.13  1.12      md   \n",
       "...                        ...        ...         ...    ...   ...     ...   \n",
       "847226 2020-02-29 19:39:30.310  33.649167 -116.706500  13.63  0.21      ml   \n",
       "847227 2020-02-29 19:39:17.370  33.648833 -116.705500  13.74  0.87      ml   \n",
       "847228 2020-02-29 19:29:45.480  38.792168 -122.744003   1.71  0.57      md   \n",
       "847229 2020-02-29 19:27:07.370  35.937833 -117.682667   4.08  0.85      ml   \n",
       "847230 2020-02-29 19:09:23.230  38.806168 -122.737167   2.37  0.80      md   \n",
       "\n",
       "         nst     gap      dmin     rms  ...  \\\n",
       "0       34.0  216.00  0.142300  0.1900  ...   \n",
       "1       12.0  136.00  0.022120  0.2500  ...   \n",
       "2       70.0   39.00  0.099380  0.3200  ...   \n",
       "3       11.0  200.86  0.077000  0.1847  ...   \n",
       "4       25.0   51.00  0.009625  0.0500  ...   \n",
       "...      ...     ...       ...     ...  ...   \n",
       "847226  17.0   73.00  0.033640  0.1000  ...   \n",
       "847227  26.0   70.00  0.033160  0.1400  ...   \n",
       "847228   9.0  117.00  0.010580  0.0100  ...   \n",
       "847229  16.0   56.00  0.028060  0.0900  ...   \n",
       "847230  12.0   83.00  0.018460  0.0300  ...   \n",
       "\n",
       "                                    place        type horizontalError  \\\n",
       "0       21km NNE of Primo Tapia, B.C., MX  earthquake            0.45   \n",
       "1               2km NW of Willowbrook, CA  earthquake            0.70   \n",
       "2                   17km SSW of Oasis, CA  earthquake            0.29   \n",
       "3            5 km W of Walker, California  earthquake             NaN   \n",
       "4               7km NW of The Geysers, CA  earthquake            0.21   \n",
       "...                                   ...         ...             ...   \n",
       "847226            10km S of Idyllwild, CA  earthquake            0.34   \n",
       "847227            10km S of Idyllwild, CA  earthquake            0.28   \n",
       "847228         2km NNE of The Geysers, CA  earthquake            0.46   \n",
       "847229          20km E of Little Lake, CA  earthquake            0.16   \n",
       "847230                 2km SW of Cobb, CA  earthquake            0.31   \n",
       "\n",
       "       depthError magError  magNst     status  locationSource  magSource  year  \n",
       "0            0.66    0.241     8.0  automatic              ci         ci  2021  \n",
       "1            1.01    0.248    32.0  automatic              ci         ci  2021  \n",
       "2            0.92    0.211    26.0  automatic              ci         ci  2021  \n",
       "3            0.80    0.340     5.0  automatic              nn         nn  2021  \n",
       "4            0.40    0.140     3.0  automatic              nc         nc  2021  \n",
       "...           ...      ...     ...        ...             ...        ...   ...  \n",
       "847226       0.44    0.132     8.0   reviewed              ci         ci  2020  \n",
       "847227       0.38    0.177    15.0   reviewed              ci         ci  2020  \n",
       "847228       0.82      NaN     1.0  automatic              nc         nc  2020  \n",
       "847229       0.27    0.193     7.0   reviewed              ci         ci  2020  \n",
       "847230       0.77    0.200     4.0  automatic              nc         nc  2020  \n",
       "\n",
       "[847190 rows x 23 columns]"
      ]
     },
     "execution_count": 48,
     "metadata": {},
     "output_type": "execute_result"
    }
   ],
   "source": [
    "df"
   ]
  },
  {
   "cell_type": "code",
   "execution_count": 49,
   "id": "56c4bb83",
   "metadata": {
    "scrolled": true
   },
   "outputs": [
    {
     "data": {
      "text/plain": [
       "(array([2.78663e+05, 3.42014e+05, 1.55823e+05, 5.34760e+04, 1.38000e+04,\n",
       "        2.84400e+03, 4.67000e+02, 8.00000e+01, 1.40000e+01, 9.00000e+00]),\n",
       " array([0.  , 0.72, 1.44, 2.16, 2.88, 3.6 , 4.32, 5.04, 5.76, 6.48, 7.2 ]),\n",
       " <BarContainer object of 10 artists>)"
      ]
     },
     "execution_count": 49,
     "metadata": {},
     "output_type": "execute_result"
    },
    {
     "data": {
      "image/png": "[encoded data removed]",
      "text/plain": [
       "<Figure size 432x288 with 1 Axes>"
      ]
     },
     "metadata": {
      "needs_background": "light"
     },
     "output_type": "display_data"
    }
   ],
   "source": [
    "fig, ax = plt.subplots()\n",
    "\n",
    "ax.hist(df['mag'])\n",
    "\n"
   ]
  },
  {
   "cell_type": "code",
   "execution_count": 50,
   "id": "def108c8",
   "metadata": {},
   "outputs": [
    {
     "data": {
      "text/plain": [
       "(array([2.78663e+05, 3.42014e+05, 1.55823e+05, 5.34760e+04, 1.38000e+04,\n",
       "        2.84400e+03, 4.67000e+02, 8.00000e+01, 1.40000e+01, 9.00000e+00]),\n",
       " array([0.  , 0.72, 1.44, 2.16, 2.88, 3.6 , 4.32, 5.04, 5.76, 6.48, 7.2 ]),\n",
       " <BarContainer object of 10 artists>)"
      ]
     },
     "execution_count": 50,
     "metadata": {},
     "output_type": "execute_result"
    },
    {
     "data": {
      "image/png": "[encoded data removed]",
      "text/plain": [
       "<Figure size 432x288 with 1 Axes>"
      ]
     },
     "metadata": {
      "needs_background": "light"
     },
     "output_type": "display_data"
    }
   ],
   "source": [
    "plt.hist(df['mag'])"
   ]
  },
  {
   "cell_type": "code",
   "execution_count": 51,
   "id": "01db2d11",
   "metadata": {},
   "outputs": [],
   "source": [
    "df.to_csv('/Users/nicholasbronson/Metis_Nick/eq_df_fp.csv', index = False)"
   ]
  },
  {
   "cell_type": "code",
   "execution_count": 52,
   "id": "2d48990c",
   "metadata": {},
   "outputs": [],
   "source": [
    "df[\"month\"] = df[\"time\"].dt.month"
   ]
  },
  {
   "cell_type": "code",
   "execution_count": 53,
   "id": "601c9b08",
   "metadata": {
    "scrolled": true
   },
   "outputs": [
    {
     "data": {
      "text/html": [
       "<div>\n",
       "<style scoped>\n",
       "    .dataframe tbody tr th:only-of-type {\n",
       "        vertical-align: middle;\n",
       "    }\n",
       "\n",
       "    .dataframe tbody tr th {\n",
       "        vertical-align: top;\n",
       "    }\n",
       "\n",
       "    .dataframe thead th {\n",
       "        text-align: right;\n",
       "    }\n",
       "</style>\n",
       "<table border=\"1\" class=\"dataframe\">\n",
       "  <thead>\n",
       "    <tr style=\"text-align: right;\">\n",
       "      <th></th>\n",
       "      <th>time</th>\n",
       "      <th>latitude</th>\n",
       "      <th>longitude</th>\n",
       "      <th>depth</th>\n",
       "      <th>mag</th>\n",
       "      <th>magType</th>\n",
       "      <th>nst</th>\n",
       "      <th>gap</th>\n",
       "      <th>dmin</th>\n",
       "      <th>rms</th>\n",
       "      <th>...</th>\n",
       "      <th>type</th>\n",
       "      <th>horizontalError</th>\n",
       "      <th>depthError</th>\n",
       "      <th>magError</th>\n",
       "      <th>magNst</th>\n",
       "      <th>status</th>\n",
       "      <th>locationSource</th>\n",
       "      <th>magSource</th>\n",
       "      <th>year</th>\n",
       "      <th>month</th>\n",
       "    </tr>\n",
       "  </thead>\n",
       "  <tbody>\n",
       "    <tr>\n",
       "      <th>0</th>\n",
       "      <td>2021-12-11 10:49:51.940</td>\n",
       "      <td>32.383167</td>\n",
       "      <td>-116.809998</td>\n",
       "      <td>13.96</td>\n",
       "      <td>1.70</td>\n",
       "      <td>ml</td>\n",
       "      <td>34.0</td>\n",
       "      <td>216.00</td>\n",
       "      <td>0.142300</td>\n",
       "      <td>0.1900</td>\n",
       "      <td>...</td>\n",
       "      <td>earthquake</td>\n",
       "      <td>0.45</td>\n",
       "      <td>0.66</td>\n",
       "      <td>0.241</td>\n",
       "      <td>8.0</td>\n",
       "      <td>automatic</td>\n",
       "      <td>ci</td>\n",
       "      <td>ci</td>\n",
       "      <td>2021</td>\n",
       "      <td>12</td>\n",
       "    </tr>\n",
       "    <tr>\n",
       "      <th>1</th>\n",
       "      <td>2021-12-11 10:39:58.850</td>\n",
       "      <td>33.927833</td>\n",
       "      <td>-118.264500</td>\n",
       "      <td>10.30</td>\n",
       "      <td>1.32</td>\n",
       "      <td>ml</td>\n",
       "      <td>12.0</td>\n",
       "      <td>136.00</td>\n",
       "      <td>0.022120</td>\n",
       "      <td>0.2500</td>\n",
       "      <td>...</td>\n",
       "      <td>earthquake</td>\n",
       "      <td>0.70</td>\n",
       "      <td>1.01</td>\n",
       "      <td>0.248</td>\n",
       "      <td>32.0</td>\n",
       "      <td>automatic</td>\n",
       "      <td>ci</td>\n",
       "      <td>ci</td>\n",
       "      <td>2021</td>\n",
       "      <td>12</td>\n",
       "    </tr>\n",
       "    <tr>\n",
       "      <th>2</th>\n",
       "      <td>2021-12-11 10:07:03.210</td>\n",
       "      <td>33.332500</td>\n",
       "      <td>-116.196333</td>\n",
       "      <td>1.89</td>\n",
       "      <td>2.29</td>\n",
       "      <td>ml</td>\n",
       "      <td>70.0</td>\n",
       "      <td>39.00</td>\n",
       "      <td>0.099380</td>\n",
       "      <td>0.3200</td>\n",
       "      <td>...</td>\n",
       "      <td>earthquake</td>\n",
       "      <td>0.29</td>\n",
       "      <td>0.92</td>\n",
       "      <td>0.211</td>\n",
       "      <td>26.0</td>\n",
       "      <td>automatic</td>\n",
       "      <td>ci</td>\n",
       "      <td>ci</td>\n",
       "      <td>2021</td>\n",
       "      <td>12</td>\n",
       "    </tr>\n",
       "    <tr>\n",
       "      <th>3</th>\n",
       "      <td>2021-12-11 09:58:09.485</td>\n",
       "      <td>38.509800</td>\n",
       "      <td>-119.538000</td>\n",
       "      <td>7.10</td>\n",
       "      <td>1.00</td>\n",
       "      <td>ml</td>\n",
       "      <td>11.0</td>\n",
       "      <td>200.86</td>\n",
       "      <td>0.077000</td>\n",
       "      <td>0.1847</td>\n",
       "      <td>...</td>\n",
       "      <td>earthquake</td>\n",
       "      <td>NaN</td>\n",
       "      <td>0.80</td>\n",
       "      <td>0.340</td>\n",
       "      <td>5.0</td>\n",
       "      <td>automatic</td>\n",
       "      <td>nn</td>\n",
       "      <td>nn</td>\n",
       "      <td>2021</td>\n",
       "      <td>12</td>\n",
       "    </tr>\n",
       "    <tr>\n",
       "      <th>4</th>\n",
       "      <td>2021-12-11 09:50:52.120</td>\n",
       "      <td>38.815834</td>\n",
       "      <td>-122.820663</td>\n",
       "      <td>2.13</td>\n",
       "      <td>1.12</td>\n",
       "      <td>md</td>\n",
       "      <td>25.0</td>\n",
       "      <td>51.00</td>\n",
       "      <td>0.009625</td>\n",
       "      <td>0.0500</td>\n",
       "      <td>...</td>\n",
       "      <td>earthquake</td>\n",
       "      <td>0.21</td>\n",
       "      <td>0.40</td>\n",
       "      <td>0.140</td>\n",
       "      <td>3.0</td>\n",
       "      <td>automatic</td>\n",
       "      <td>nc</td>\n",
       "      <td>nc</td>\n",
       "      <td>2021</td>\n",
       "      <td>12</td>\n",
       "    </tr>\n",
       "    <tr>\n",
       "      <th>...</th>\n",
       "      <td>...</td>\n",
       "      <td>...</td>\n",
       "      <td>...</td>\n",
       "      <td>...</td>\n",
       "      <td>...</td>\n",
       "      <td>...</td>\n",
       "      <td>...</td>\n",
       "      <td>...</td>\n",
       "      <td>...</td>\n",
       "      <td>...</td>\n",
       "      <td>...</td>\n",
       "      <td>...</td>\n",
       "      <td>...</td>\n",
       "      <td>...</td>\n",
       "      <td>...</td>\n",
       "      <td>...</td>\n",
       "      <td>...</td>\n",
       "      <td>...</td>\n",
       "      <td>...</td>\n",
       "      <td>...</td>\n",
       "      <td>...</td>\n",
       "    </tr>\n",
       "    <tr>\n",
       "      <th>847226</th>\n",
       "      <td>2020-02-29 19:39:30.310</td>\n",
       "      <td>33.649167</td>\n",
       "      <td>-116.706500</td>\n",
       "      <td>13.63</td>\n",
       "      <td>0.21</td>\n",
       "      <td>ml</td>\n",
       "      <td>17.0</td>\n",
       "      <td>73.00</td>\n",
       "      <td>0.033640</td>\n",
       "      <td>0.1000</td>\n",
       "      <td>...</td>\n",
       "      <td>earthquake</td>\n",
       "      <td>0.34</td>\n",
       "      <td>0.44</td>\n",
       "      <td>0.132</td>\n",
       "      <td>8.0</td>\n",
       "      <td>reviewed</td>\n",
       "      <td>ci</td>\n",
       "      <td>ci</td>\n",
       "      <td>2020</td>\n",
       "      <td>2</td>\n",
       "    </tr>\n",
       "    <tr>\n",
       "      <th>847227</th>\n",
       "      <td>2020-02-29 19:39:17.370</td>\n",
       "      <td>33.648833</td>\n",
       "      <td>-116.705500</td>\n",
       "      <td>13.74</td>\n",
       "      <td>0.87</td>\n",
       "      <td>ml</td>\n",
       "      <td>26.0</td>\n",
       "      <td>70.00</td>\n",
       "      <td>0.033160</td>\n",
       "      <td>0.1400</td>\n",
       "      <td>...</td>\n",
       "      <td>earthquake</td>\n",
       "      <td>0.28</td>\n",
       "      <td>0.38</td>\n",
       "      <td>0.177</td>\n",
       "      <td>15.0</td>\n",
       "      <td>reviewed</td>\n",
       "      <td>ci</td>\n",
       "      <td>ci</td>\n",
       "      <td>2020</td>\n",
       "      <td>2</td>\n",
       "    </tr>\n",
       "    <tr>\n",
       "      <th>847228</th>\n",
       "      <td>2020-02-29 19:29:45.480</td>\n",
       "      <td>38.792168</td>\n",
       "      <td>-122.744003</td>\n",
       "      <td>1.71</td>\n",
       "      <td>0.57</td>\n",
       "      <td>md</td>\n",
       "      <td>9.0</td>\n",
       "      <td>117.00</td>\n",
       "      <td>0.010580</td>\n",
       "      <td>0.0100</td>\n",
       "      <td>...</td>\n",
       "      <td>earthquake</td>\n",
       "      <td>0.46</td>\n",
       "      <td>0.82</td>\n",
       "      <td>NaN</td>\n",
       "      <td>1.0</td>\n",
       "      <td>automatic</td>\n",
       "      <td>nc</td>\n",
       "      <td>nc</td>\n",
       "      <td>2020</td>\n",
       "      <td>2</td>\n",
       "    </tr>\n",
       "    <tr>\n",
       "      <th>847229</th>\n",
       "      <td>2020-02-29 19:27:07.370</td>\n",
       "      <td>35.937833</td>\n",
       "      <td>-117.682667</td>\n",
       "      <td>4.08</td>\n",
       "      <td>0.85</td>\n",
       "      <td>ml</td>\n",
       "      <td>16.0</td>\n",
       "      <td>56.00</td>\n",
       "      <td>0.028060</td>\n",
       "      <td>0.0900</td>\n",
       "      <td>...</td>\n",
       "      <td>earthquake</td>\n",
       "      <td>0.16</td>\n",
       "      <td>0.27</td>\n",
       "      <td>0.193</td>\n",
       "      <td>7.0</td>\n",
       "      <td>reviewed</td>\n",
       "      <td>ci</td>\n",
       "      <td>ci</td>\n",
       "      <td>2020</td>\n",
       "      <td>2</td>\n",
       "    </tr>\n",
       "    <tr>\n",
       "      <th>847230</th>\n",
       "      <td>2020-02-29 19:09:23.230</td>\n",
       "      <td>38.806168</td>\n",
       "      <td>-122.737167</td>\n",
       "      <td>2.37</td>\n",
       "      <td>0.80</td>\n",
       "      <td>md</td>\n",
       "      <td>12.0</td>\n",
       "      <td>83.00</td>\n",
       "      <td>0.018460</td>\n",
       "      <td>0.0300</td>\n",
       "      <td>...</td>\n",
       "      <td>earthquake</td>\n",
       "      <td>0.31</td>\n",
       "      <td>0.77</td>\n",
       "      <td>0.200</td>\n",
       "      <td>4.0</td>\n",
       "      <td>automatic</td>\n",
       "      <td>nc</td>\n",
       "      <td>nc</td>\n",
       "      <td>2020</td>\n",
       "      <td>2</td>\n",
       "    </tr>\n",
       "  </tbody>\n",
       "</table>\n",
       "<p>847190 rows × 24 columns</p>\n",
       "</div>"
      ],
      "text/plain": [
       "                          time   latitude   longitude  depth   mag magType  \\\n",
       "0      2021-12-11 10:49:51.940  32.383167 -116.809998  13.96  1.70      ml   \n",
       "1      2021-12-11 10:39:58.850  33.927833 -118.264500  10.30  1.32      ml   \n",
       "2      2021-12-11 10:07:03.210  33.332500 -116.196333   1.89  2.29      ml   \n",
       "3      2021-12-11 09:58:09.485  38.509800 -119.538000   7.10  1.00      ml   \n",
       "4      2021-12-11 09:50:52.120  38.815834 -122.820663   2.13  1.12      md   \n",
       "...                        ...        ...         ...    ...   ...     ...   \n",
       "847226 2020-02-29 19:39:30.310  33.649167 -116.706500  13.63  0.21      ml   \n",
       "847227 2020-02-29 19:39:17.370  33.648833 -116.705500  13.74  0.87      ml   \n",
       "847228 2020-02-29 19:29:45.480  38.792168 -122.744003   1.71  0.57      md   \n",
       "847229 2020-02-29 19:27:07.370  35.937833 -117.682667   4.08  0.85      ml   \n",
       "847230 2020-02-29 19:09:23.230  38.806168 -122.737167   2.37  0.80      md   \n",
       "\n",
       "         nst     gap      dmin     rms  ...        type horizontalError  \\\n",
       "0       34.0  216.00  0.142300  0.1900  ...  earthquake            0.45   \n",
       "1       12.0  136.00  0.022120  0.2500  ...  earthquake            0.70   \n",
       "2       70.0   39.00  0.099380  0.3200  ...  earthquake            0.29   \n",
       "3       11.0  200.86  0.077000  0.1847  ...  earthquake             NaN   \n",
       "4       25.0   51.00  0.009625  0.0500  ...  earthquake            0.21   \n",
       "...      ...     ...       ...     ...  ...         ...             ...   \n",
       "847226  17.0   73.00  0.033640  0.1000  ...  earthquake            0.34   \n",
       "847227  26.0   70.00  0.033160  0.1400  ...  earthquake            0.28   \n",
       "847228   9.0  117.00  0.010580  0.0100  ...  earthquake            0.46   \n",
       "847229  16.0   56.00  0.028060  0.0900  ...  earthquake            0.16   \n",
       "847230  12.0   83.00  0.018460  0.0300  ...  earthquake            0.31   \n",
       "\n",
       "       depthError magError magNst     status  locationSource  magSource  year  \\\n",
       "0            0.66    0.241    8.0  automatic              ci         ci  2021   \n",
       "1            1.01    0.248   32.0  automatic              ci         ci  2021   \n",
       "2            0.92    0.211   26.0  automatic              ci         ci  2021   \n",
       "3            0.80    0.340    5.0  automatic              nn         nn  2021   \n",
       "4            0.40    0.140    3.0  automatic              nc         nc  2021   \n",
       "...           ...      ...    ...        ...             ...        ...   ...   \n",
       "847226       0.44    0.132    8.0   reviewed              ci         ci  2020   \n",
       "847227       0.38    0.177   15.0   reviewed              ci         ci  2020   \n",
       "847228       0.82      NaN    1.0  automatic              nc         nc  2020   \n",
       "847229       0.27    0.193    7.0   reviewed              ci         ci  2020   \n",
       "847230       0.77    0.200    4.0  automatic              nc         nc  2020   \n",
       "\n",
       "       month  \n",
       "0         12  \n",
       "1         12  \n",
       "2         12  \n",
       "3         12  \n",
       "4         12  \n",
       "...      ...  \n",
       "847226     2  \n",
       "847227     2  \n",
       "847228     2  \n",
       "847229     2  \n",
       "847230     2  \n",
       "\n",
       "[847190 rows x 24 columns]"
      ]
     },
     "execution_count": 53,
     "metadata": {},
     "output_type": "execute_result"
    }
   ],
   "source": [
    "df"
   ]
  },
  {
   "cell_type": "code",
   "execution_count": 54,
   "id": "0f5d0fcb",
   "metadata": {},
   "outputs": [],
   "source": [
    "lat = df['latitude'] "
   ]
  },
  {
   "cell_type": "code",
   "execution_count": 55,
   "id": "f335020d",
   "metadata": {
    "scrolled": true
   },
   "outputs": [
    {
     "data": {
      "text/plain": [
       "<bound method Series.isnull of 0         32.383167\n",
       "1         33.927833\n",
       "2         33.332500\n",
       "3         38.509800\n",
       "4         38.815834\n",
       "            ...    \n",
       "847226    33.649167\n",
       "847227    33.648833\n",
       "847228    38.792168\n",
       "847229    35.937833\n",
       "847230    38.806168\n",
       "Name: latitude, Length: 847190, dtype: float64>"
      ]
     },
     "execution_count": 55,
     "metadata": {},
     "output_type": "execute_result"
    }
   ],
   "source": [
    "lat.isnull"
   ]
  },
  {
   "cell_type": "code",
   "execution_count": 56,
   "id": "5e479111",
   "metadata": {},
   "outputs": [],
   "source": [
    "lon = df['longitude']"
   ]
  },
  {
   "cell_type": "code",
   "execution_count": 57,
   "id": "60bec74d",
   "metadata": {},
   "outputs": [
    {
     "data": {
      "text/plain": [
       "<bound method Series.isnull of 0        -116.809998\n",
       "1        -118.264500\n",
       "2        -116.196333\n",
       "3        -119.538000\n",
       "4        -122.820663\n",
       "             ...    \n",
       "847226   -116.706500\n",
       "847227   -116.705500\n",
       "847228   -122.744003\n",
       "847229   -117.682667\n",
       "847230   -122.737167\n",
       "Name: longitude, Length: 847190, dtype: float64>"
      ]
     },
     "execution_count": 57,
     "metadata": {},
     "output_type": "execute_result"
    }
   ],
   "source": [
    "lon.isnull"
   ]
  },
  {
   "cell_type": "code",
   "execution_count": 58,
   "id": "1f6731d1",
   "metadata": {},
   "outputs": [],
   "source": [
    "df.to_csv('/Users/nicholasbronson/Metis_Nick/eq_df_2.csv', index = False)"
   ]
  },
  {
   "cell_type": "code",
   "execution_count": 59,
   "id": "ff947a21",
   "metadata": {},
   "outputs": [],
   "source": [
    "or_boundary = df[df['latitude'].between(42,46.5) & df['longitude'].between(-130,-116.4)]\n"
   ]
  },
  {
   "cell_type": "code",
   "execution_count": 60,
   "id": "0dad1b68",
   "metadata": {},
   "outputs": [
    {
     "data": {
      "text/html": [
       "<div>\n",
       "<style scoped>\n",
       "    .dataframe tbody tr th:only-of-type {\n",
       "        vertical-align: middle;\n",
       "    }\n",
       "\n",
       "    .dataframe tbody tr th {\n",
       "        vertical-align: top;\n",
       "    }\n",
       "\n",
       "    .dataframe thead th {\n",
       "        text-align: right;\n",
       "    }\n",
       "</style>\n",
       "<table border=\"1\" class=\"dataframe\">\n",
       "  <thead>\n",
       "    <tr style=\"text-align: right;\">\n",
       "      <th></th>\n",
       "      <th>time</th>\n",
       "      <th>latitude</th>\n",
       "      <th>longitude</th>\n",
       "      <th>depth</th>\n",
       "      <th>mag</th>\n",
       "      <th>magType</th>\n",
       "      <th>nst</th>\n",
       "      <th>gap</th>\n",
       "      <th>dmin</th>\n",
       "      <th>rms</th>\n",
       "      <th>...</th>\n",
       "      <th>type</th>\n",
       "      <th>horizontalError</th>\n",
       "      <th>depthError</th>\n",
       "      <th>magError</th>\n",
       "      <th>magNst</th>\n",
       "      <th>status</th>\n",
       "      <th>locationSource</th>\n",
       "      <th>magSource</th>\n",
       "      <th>year</th>\n",
       "      <th>month</th>\n",
       "    </tr>\n",
       "  </thead>\n",
       "  <tbody>\n",
       "    <tr>\n",
       "      <th>49</th>\n",
       "      <td>2021-12-11 01:30:41.320</td>\n",
       "      <td>46.370998</td>\n",
       "      <td>-122.296669</td>\n",
       "      <td>2.180000</td>\n",
       "      <td>2.180000</td>\n",
       "      <td>md</td>\n",
       "      <td>8.0</td>\n",
       "      <td>202.0</td>\n",
       "      <td>0.071230</td>\n",
       "      <td>0.22</td>\n",
       "      <td>...</td>\n",
       "      <td>earthquake</td>\n",
       "      <td>2.27</td>\n",
       "      <td>11.00</td>\n",
       "      <td>NaN</td>\n",
       "      <td>1.0</td>\n",
       "      <td>reviewed</td>\n",
       "      <td>uw</td>\n",
       "      <td>uw</td>\n",
       "      <td>2021</td>\n",
       "      <td>12</td>\n",
       "    </tr>\n",
       "    <tr>\n",
       "      <th>81</th>\n",
       "      <td>2021-12-10 17:28:41.820</td>\n",
       "      <td>46.163834</td>\n",
       "      <td>-122.954002</td>\n",
       "      <td>61.380001</td>\n",
       "      <td>2.914149</td>\n",
       "      <td>ml</td>\n",
       "      <td>11.0</td>\n",
       "      <td>219.0</td>\n",
       "      <td>0.500500</td>\n",
       "      <td>0.21</td>\n",
       "      <td>...</td>\n",
       "      <td>earthquake</td>\n",
       "      <td>3.75</td>\n",
       "      <td>4.87</td>\n",
       "      <td>0.443661</td>\n",
       "      <td>15.0</td>\n",
       "      <td>reviewed</td>\n",
       "      <td>uw</td>\n",
       "      <td>uw</td>\n",
       "      <td>2021</td>\n",
       "      <td>12</td>\n",
       "    </tr>\n",
       "    <tr>\n",
       "      <th>194</th>\n",
       "      <td>2021-12-09 19:26:25.100</td>\n",
       "      <td>46.200500</td>\n",
       "      <td>-122.180500</td>\n",
       "      <td>3.300000</td>\n",
       "      <td>0.110000</td>\n",
       "      <td>ml</td>\n",
       "      <td>9.0</td>\n",
       "      <td>161.0</td>\n",
       "      <td>0.003486</td>\n",
       "      <td>0.09</td>\n",
       "      <td>...</td>\n",
       "      <td>earthquake</td>\n",
       "      <td>0.48</td>\n",
       "      <td>0.78</td>\n",
       "      <td>0.112108</td>\n",
       "      <td>3.0</td>\n",
       "      <td>reviewed</td>\n",
       "      <td>uw</td>\n",
       "      <td>uw</td>\n",
       "      <td>2021</td>\n",
       "      <td>12</td>\n",
       "    </tr>\n",
       "    <tr>\n",
       "      <th>207</th>\n",
       "      <td>2021-12-09 18:08:10.180</td>\n",
       "      <td>46.210167</td>\n",
       "      <td>-122.181667</td>\n",
       "      <td>2.200000</td>\n",
       "      <td>0.430000</td>\n",
       "      <td>ml</td>\n",
       "      <td>10.0</td>\n",
       "      <td>153.0</td>\n",
       "      <td>0.006563</td>\n",
       "      <td>0.06</td>\n",
       "      <td>...</td>\n",
       "      <td>earthquake</td>\n",
       "      <td>0.39</td>\n",
       "      <td>0.75</td>\n",
       "      <td>0.206685</td>\n",
       "      <td>4.0</td>\n",
       "      <td>reviewed</td>\n",
       "      <td>uw</td>\n",
       "      <td>uw</td>\n",
       "      <td>2021</td>\n",
       "      <td>12</td>\n",
       "    </tr>\n",
       "    <tr>\n",
       "      <th>222</th>\n",
       "      <td>2021-12-09 15:27:50.710</td>\n",
       "      <td>44.633000</td>\n",
       "      <td>-124.480833</td>\n",
       "      <td>8.160000</td>\n",
       "      <td>1.670000</td>\n",
       "      <td>ml</td>\n",
       "      <td>9.0</td>\n",
       "      <td>252.0</td>\n",
       "      <td>0.494000</td>\n",
       "      <td>0.31</td>\n",
       "      <td>...</td>\n",
       "      <td>earthquake</td>\n",
       "      <td>1.45</td>\n",
       "      <td>27.18</td>\n",
       "      <td>0.169701</td>\n",
       "      <td>2.0</td>\n",
       "      <td>reviewed</td>\n",
       "      <td>uw</td>\n",
       "      <td>uw</td>\n",
       "      <td>2021</td>\n",
       "      <td>12</td>\n",
       "    </tr>\n",
       "    <tr>\n",
       "      <th>...</th>\n",
       "      <td>...</td>\n",
       "      <td>...</td>\n",
       "      <td>...</td>\n",
       "      <td>...</td>\n",
       "      <td>...</td>\n",
       "      <td>...</td>\n",
       "      <td>...</td>\n",
       "      <td>...</td>\n",
       "      <td>...</td>\n",
       "      <td>...</td>\n",
       "      <td>...</td>\n",
       "      <td>...</td>\n",
       "      <td>...</td>\n",
       "      <td>...</td>\n",
       "      <td>...</td>\n",
       "      <td>...</td>\n",
       "      <td>...</td>\n",
       "      <td>...</td>\n",
       "      <td>...</td>\n",
       "      <td>...</td>\n",
       "      <td>...</td>\n",
       "    </tr>\n",
       "    <tr>\n",
       "      <th>846924</th>\n",
       "      <td>2020-03-02 17:33:56.120</td>\n",
       "      <td>46.299333</td>\n",
       "      <td>-122.226333</td>\n",
       "      <td>1.650000</td>\n",
       "      <td>0.280000</td>\n",
       "      <td>ml</td>\n",
       "      <td>7.0</td>\n",
       "      <td>156.0</td>\n",
       "      <td>NaN</td>\n",
       "      <td>0.05</td>\n",
       "      <td>...</td>\n",
       "      <td>earthquake</td>\n",
       "      <td>0.29</td>\n",
       "      <td>0.31</td>\n",
       "      <td>0.179742</td>\n",
       "      <td>4.0</td>\n",
       "      <td>reviewed</td>\n",
       "      <td>uw</td>\n",
       "      <td>uw</td>\n",
       "      <td>2020</td>\n",
       "      <td>3</td>\n",
       "    </tr>\n",
       "    <tr>\n",
       "      <th>847051</th>\n",
       "      <td>2020-03-01 20:36:00.920</td>\n",
       "      <td>46.099167</td>\n",
       "      <td>-118.870833</td>\n",
       "      <td>16.150000</td>\n",
       "      <td>1.060000</td>\n",
       "      <td>ml</td>\n",
       "      <td>11.0</td>\n",
       "      <td>124.0</td>\n",
       "      <td>NaN</td>\n",
       "      <td>0.06</td>\n",
       "      <td>...</td>\n",
       "      <td>earthquake</td>\n",
       "      <td>0.69</td>\n",
       "      <td>0.76</td>\n",
       "      <td>0.220742</td>\n",
       "      <td>10.0</td>\n",
       "      <td>reviewed</td>\n",
       "      <td>uw</td>\n",
       "      <td>uw</td>\n",
       "      <td>2020</td>\n",
       "      <td>3</td>\n",
       "    </tr>\n",
       "    <tr>\n",
       "      <th>847055</th>\n",
       "      <td>2020-03-01 19:55:22.910</td>\n",
       "      <td>46.206333</td>\n",
       "      <td>-122.053000</td>\n",
       "      <td>10.650000</td>\n",
       "      <td>0.420000</td>\n",
       "      <td>ml</td>\n",
       "      <td>12.0</td>\n",
       "      <td>188.0</td>\n",
       "      <td>NaN</td>\n",
       "      <td>0.18</td>\n",
       "      <td>...</td>\n",
       "      <td>earthquake</td>\n",
       "      <td>0.66</td>\n",
       "      <td>0.98</td>\n",
       "      <td>0.176308</td>\n",
       "      <td>6.0</td>\n",
       "      <td>reviewed</td>\n",
       "      <td>uw</td>\n",
       "      <td>uw</td>\n",
       "      <td>2020</td>\n",
       "      <td>3</td>\n",
       "    </tr>\n",
       "    <tr>\n",
       "      <th>847070</th>\n",
       "      <td>2020-03-01 18:05:50.750</td>\n",
       "      <td>46.136833</td>\n",
       "      <td>-122.159167</td>\n",
       "      <td>3.640000</td>\n",
       "      <td>0.360000</td>\n",
       "      <td>ml</td>\n",
       "      <td>15.0</td>\n",
       "      <td>96.0</td>\n",
       "      <td>NaN</td>\n",
       "      <td>0.18</td>\n",
       "      <td>...</td>\n",
       "      <td>earthquake</td>\n",
       "      <td>0.64</td>\n",
       "      <td>0.77</td>\n",
       "      <td>0.149955</td>\n",
       "      <td>12.0</td>\n",
       "      <td>reviewed</td>\n",
       "      <td>uw</td>\n",
       "      <td>uw</td>\n",
       "      <td>2020</td>\n",
       "      <td>3</td>\n",
       "    </tr>\n",
       "    <tr>\n",
       "      <th>847182</th>\n",
       "      <td>2020-03-01 00:44:22.990</td>\n",
       "      <td>46.088500</td>\n",
       "      <td>-118.859000</td>\n",
       "      <td>17.040000</td>\n",
       "      <td>1.110000</td>\n",
       "      <td>ml</td>\n",
       "      <td>10.0</td>\n",
       "      <td>125.0</td>\n",
       "      <td>NaN</td>\n",
       "      <td>0.06</td>\n",
       "      <td>...</td>\n",
       "      <td>earthquake</td>\n",
       "      <td>0.66</td>\n",
       "      <td>0.71</td>\n",
       "      <td>0.304681</td>\n",
       "      <td>8.0</td>\n",
       "      <td>reviewed</td>\n",
       "      <td>uw</td>\n",
       "      <td>uw</td>\n",
       "      <td>2020</td>\n",
       "      <td>3</td>\n",
       "    </tr>\n",
       "  </tbody>\n",
       "</table>\n",
       "<p>11075 rows × 24 columns</p>\n",
       "</div>"
      ],
      "text/plain": [
       "                          time   latitude   longitude      depth       mag  \\\n",
       "49     2021-12-11 01:30:41.320  46.370998 -122.296669   2.180000  2.180000   \n",
       "81     2021-12-10 17:28:41.820  46.163834 -122.954002  61.380001  2.914149   \n",
       "194    2021-12-09 19:26:25.100  46.200500 -122.180500   3.300000  0.110000   \n",
       "207    2021-12-09 18:08:10.180  46.210167 -122.181667   2.200000  0.430000   \n",
       "222    2021-12-09 15:27:50.710  44.633000 -124.480833   8.160000  1.670000   \n",
       "...                        ...        ...         ...        ...       ...   \n",
       "846924 2020-03-02 17:33:56.120  46.299333 -122.226333   1.650000  0.280000   \n",
       "847051 2020-03-01 20:36:00.920  46.099167 -118.870833  16.150000  1.060000   \n",
       "847055 2020-03-01 19:55:22.910  46.206333 -122.053000  10.650000  0.420000   \n",
       "847070 2020-03-01 18:05:50.750  46.136833 -122.159167   3.640000  0.360000   \n",
       "847182 2020-03-01 00:44:22.990  46.088500 -118.859000  17.040000  1.110000   \n",
       "\n",
       "       magType   nst    gap      dmin   rms  ...        type horizontalError  \\\n",
       "49          md   8.0  202.0  0.071230  0.22  ...  earthquake            2.27   \n",
       "81          ml  11.0  219.0  0.500500  0.21  ...  earthquake            3.75   \n",
       "194         ml   9.0  161.0  0.003486  0.09  ...  earthquake            0.48   \n",
       "207         ml  10.0  153.0  0.006563  0.06  ...  earthquake            0.39   \n",
       "222         ml   9.0  252.0  0.494000  0.31  ...  earthquake            1.45   \n",
       "...        ...   ...    ...       ...   ...  ...         ...             ...   \n",
       "846924      ml   7.0  156.0       NaN  0.05  ...  earthquake            0.29   \n",
       "847051      ml  11.0  124.0       NaN  0.06  ...  earthquake            0.69   \n",
       "847055      ml  12.0  188.0       NaN  0.18  ...  earthquake            0.66   \n",
       "847070      ml  15.0   96.0       NaN  0.18  ...  earthquake            0.64   \n",
       "847182      ml  10.0  125.0       NaN  0.06  ...  earthquake            0.66   \n",
       "\n",
       "       depthError  magError magNst    status  locationSource  magSource  year  \\\n",
       "49          11.00       NaN    1.0  reviewed              uw         uw  2021   \n",
       "81           4.87  0.443661   15.0  reviewed              uw         uw  2021   \n",
       "194          0.78  0.112108    3.0  reviewed              uw         uw  2021   \n",
       "207          0.75  0.206685    4.0  reviewed              uw         uw  2021   \n",
       "222         27.18  0.169701    2.0  reviewed              uw         uw  2021   \n",
       "...           ...       ...    ...       ...             ...        ...   ...   \n",
       "846924       0.31  0.179742    4.0  reviewed              uw         uw  2020   \n",
       "847051       0.76  0.220742   10.0  reviewed              uw         uw  2020   \n",
       "847055       0.98  0.176308    6.0  reviewed              uw         uw  2020   \n",
       "847070       0.77  0.149955   12.0  reviewed              uw         uw  2020   \n",
       "847182       0.71  0.304681    8.0  reviewed              uw         uw  2020   \n",
       "\n",
       "       month  \n",
       "49        12  \n",
       "81        12  \n",
       "194       12  \n",
       "207       12  \n",
       "222       12  \n",
       "...      ...  \n",
       "846924     3  \n",
       "847051     3  \n",
       "847055     3  \n",
       "847070     3  \n",
       "847182     3  \n",
       "\n",
       "[11075 rows x 24 columns]"
      ]
     },
     "execution_count": 60,
     "metadata": {},
     "output_type": "execute_result"
    }
   ],
   "source": [
    "or_boundary"
   ]
  },
  {
   "cell_type": "code",
   "execution_count": 61,
   "id": "dc8a80a9",
   "metadata": {
    "scrolled": true
   },
   "outputs": [
    {
     "data": {
      "text/plain": [
       "Timestamp('2021-12-11 10:49:51.940000')"
      ]
     },
     "execution_count": 61,
     "metadata": {},
     "output_type": "execute_result"
    }
   ],
   "source": [
    "max(df['time'])"
   ]
  },
  {
   "cell_type": "code",
   "execution_count": 62,
   "id": "c87a3892",
   "metadata": {},
   "outputs": [],
   "source": [
    "or_boundary = df[df['latitude'].between(42,46.5) & df['longitude'].between(-130,-116.4)]\n"
   ]
  },
  {
   "cell_type": "code",
   "execution_count": 63,
   "id": "a58bacf3",
   "metadata": {},
   "outputs": [],
   "source": [
    "df_small = df[(df[\"year\"] > 2018) & (df['mag'] > 2)]"
   ]
  },
  {
   "cell_type": "code",
   "execution_count": 64,
   "id": "f41b0585",
   "metadata": {},
   "outputs": [],
   "source": [
    "df_small.to_csv('/Users/nicholasbronson/Metis_Nick/eq_df_v2.csv', index = False)"
   ]
  },
  {
   "cell_type": "code",
   "execution_count": 65,
   "id": "12031cbc",
   "metadata": {
    "scrolled": true
   },
   "outputs": [
    {
     "data": {
      "text/plain": [
       "'numeric_columns = data.select_dtypes([\\'float64\\', \\'float32\\', \\'int32\\', \\'int64\\']).columns\\nprint(numeric_columns)\\n\\ncheckbox = st.sidebar.checkbox(\\'Reveal data\\')\\n\\nif checkbox:\\n    ## If checkbox in app is checked, dataframe appears \\n    st.dataframe(data=data)\\n\\nst.sidebar.subheader(\\'Plot Setup\\')\\n\\n\\n\\n\\n##Creates Plotting ability \\nselect_box1 = st.sidebar.selectbox(label=\"X axis\", options = numeric_columns)\\nprint(select_box1)\\nselect_box2 = st.sidebar.selectbox(label=\"Y axis\", options = numeric_columns)\\n\\nsns.relplot(x=select_box1, y=select_box2, data=data)\\nst.pyplot()'"
      ]
     },
     "execution_count": 65,
     "metadata": {},
     "output_type": "execute_result"
    }
   ],
   "source": [
    "## Not used atm, may reinstate\n",
    "\"\"\"numeric_columns = data.select_dtypes(['float64', 'float32', 'int32', 'int64']).columns\n",
    "print(numeric_columns)\n",
    "\n",
    "checkbox = st.sidebar.checkbox('Reveal data')\n",
    "\n",
    "if checkbox:\n",
    "    ## If checkbox in app is checked, dataframe appears \n",
    "    st.dataframe(data=data)\n",
    "\n",
    "st.sidebar.subheader('Plot Setup')\n",
    "\n",
    "\n",
    "\n",
    "\n",
    "##Creates Plotting ability \n",
    "select_box1 = st.sidebar.selectbox(label=\"X axis\", options = numeric_columns)\n",
    "print(select_box1)\n",
    "select_box2 = st.sidebar.selectbox(label=\"Y axis\", options = numeric_columns)\n",
    "\n",
    "sns.relplot(x=select_box1, y=select_box2, data=data)\n",
    "st.pyplot()\"\"\""
   ]
  },
  {
   "cell_type": "code",
   "execution_count": 66,
   "id": "0319237d",
   "metadata": {},
   "outputs": [
    {
     "data": {
      "text/html": [
       "<div>\n",
       "<style scoped>\n",
       "    .dataframe tbody tr th:only-of-type {\n",
       "        vertical-align: middle;\n",
       "    }\n",
       "\n",
       "    .dataframe tbody tr th {\n",
       "        vertical-align: top;\n",
       "    }\n",
       "\n",
       "    .dataframe thead th {\n",
       "        text-align: right;\n",
       "    }\n",
       "</style>\n",
       "<table border=\"1\" class=\"dataframe\">\n",
       "  <thead>\n",
       "    <tr style=\"text-align: right;\">\n",
       "      <th></th>\n",
       "      <th>time</th>\n",
       "      <th>latitude</th>\n",
       "      <th>longitude</th>\n",
       "      <th>depth</th>\n",
       "      <th>mag</th>\n",
       "      <th>magType</th>\n",
       "      <th>nst</th>\n",
       "      <th>gap</th>\n",
       "      <th>dmin</th>\n",
       "      <th>rms</th>\n",
       "      <th>...</th>\n",
       "      <th>type</th>\n",
       "      <th>horizontalError</th>\n",
       "      <th>depthError</th>\n",
       "      <th>magError</th>\n",
       "      <th>magNst</th>\n",
       "      <th>status</th>\n",
       "      <th>locationSource</th>\n",
       "      <th>magSource</th>\n",
       "      <th>year</th>\n",
       "      <th>month</th>\n",
       "    </tr>\n",
       "  </thead>\n",
       "  <tbody>\n",
       "    <tr>\n",
       "      <th>0</th>\n",
       "      <td>2021-12-11 10:49:51.940</td>\n",
       "      <td>32.383167</td>\n",
       "      <td>-116.809998</td>\n",
       "      <td>13.96</td>\n",
       "      <td>1.70</td>\n",
       "      <td>ml</td>\n",
       "      <td>34.0</td>\n",
       "      <td>216.00</td>\n",
       "      <td>0.142300</td>\n",
       "      <td>0.1900</td>\n",
       "      <td>...</td>\n",
       "      <td>earthquake</td>\n",
       "      <td>0.45</td>\n",
       "      <td>0.66</td>\n",
       "      <td>0.241</td>\n",
       "      <td>8.0</td>\n",
       "      <td>automatic</td>\n",
       "      <td>ci</td>\n",
       "      <td>ci</td>\n",
       "      <td>2021</td>\n",
       "      <td>12</td>\n",
       "    </tr>\n",
       "    <tr>\n",
       "      <th>1</th>\n",
       "      <td>2021-12-11 10:39:58.850</td>\n",
       "      <td>33.927833</td>\n",
       "      <td>-118.264500</td>\n",
       "      <td>10.30</td>\n",
       "      <td>1.32</td>\n",
       "      <td>ml</td>\n",
       "      <td>12.0</td>\n",
       "      <td>136.00</td>\n",
       "      <td>0.022120</td>\n",
       "      <td>0.2500</td>\n",
       "      <td>...</td>\n",
       "      <td>earthquake</td>\n",
       "      <td>0.70</td>\n",
       "      <td>1.01</td>\n",
       "      <td>0.248</td>\n",
       "      <td>32.0</td>\n",
       "      <td>automatic</td>\n",
       "      <td>ci</td>\n",
       "      <td>ci</td>\n",
       "      <td>2021</td>\n",
       "      <td>12</td>\n",
       "    </tr>\n",
       "    <tr>\n",
       "      <th>2</th>\n",
       "      <td>2021-12-11 10:07:03.210</td>\n",
       "      <td>33.332500</td>\n",
       "      <td>-116.196333</td>\n",
       "      <td>1.89</td>\n",
       "      <td>2.29</td>\n",
       "      <td>ml</td>\n",
       "      <td>70.0</td>\n",
       "      <td>39.00</td>\n",
       "      <td>0.099380</td>\n",
       "      <td>0.3200</td>\n",
       "      <td>...</td>\n",
       "      <td>earthquake</td>\n",
       "      <td>0.29</td>\n",
       "      <td>0.92</td>\n",
       "      <td>0.211</td>\n",
       "      <td>26.0</td>\n",
       "      <td>automatic</td>\n",
       "      <td>ci</td>\n",
       "      <td>ci</td>\n",
       "      <td>2021</td>\n",
       "      <td>12</td>\n",
       "    </tr>\n",
       "    <tr>\n",
       "      <th>3</th>\n",
       "      <td>2021-12-11 09:58:09.485</td>\n",
       "      <td>38.509800</td>\n",
       "      <td>-119.538000</td>\n",
       "      <td>7.10</td>\n",
       "      <td>1.00</td>\n",
       "      <td>ml</td>\n",
       "      <td>11.0</td>\n",
       "      <td>200.86</td>\n",
       "      <td>0.077000</td>\n",
       "      <td>0.1847</td>\n",
       "      <td>...</td>\n",
       "      <td>earthquake</td>\n",
       "      <td>NaN</td>\n",
       "      <td>0.80</td>\n",
       "      <td>0.340</td>\n",
       "      <td>5.0</td>\n",
       "      <td>automatic</td>\n",
       "      <td>nn</td>\n",
       "      <td>nn</td>\n",
       "      <td>2021</td>\n",
       "      <td>12</td>\n",
       "    </tr>\n",
       "    <tr>\n",
       "      <th>4</th>\n",
       "      <td>2021-12-11 09:50:52.120</td>\n",
       "      <td>38.815834</td>\n",
       "      <td>-122.820663</td>\n",
       "      <td>2.13</td>\n",
       "      <td>1.12</td>\n",
       "      <td>md</td>\n",
       "      <td>25.0</td>\n",
       "      <td>51.00</td>\n",
       "      <td>0.009625</td>\n",
       "      <td>0.0500</td>\n",
       "      <td>...</td>\n",
       "      <td>earthquake</td>\n",
       "      <td>0.21</td>\n",
       "      <td>0.40</td>\n",
       "      <td>0.140</td>\n",
       "      <td>3.0</td>\n",
       "      <td>automatic</td>\n",
       "      <td>nc</td>\n",
       "      <td>nc</td>\n",
       "      <td>2021</td>\n",
       "      <td>12</td>\n",
       "    </tr>\n",
       "  </tbody>\n",
       "</table>\n",
       "<p>5 rows × 24 columns</p>\n",
       "</div>"
      ],
      "text/plain": [
       "                     time   latitude   longitude  depth   mag magType   nst  \\\n",
       "0 2021-12-11 10:49:51.940  32.383167 -116.809998  13.96  1.70      ml  34.0   \n",
       "1 2021-12-11 10:39:58.850  33.927833 -118.264500  10.30  1.32      ml  12.0   \n",
       "2 2021-12-11 10:07:03.210  33.332500 -116.196333   1.89  2.29      ml  70.0   \n",
       "3 2021-12-11 09:58:09.485  38.509800 -119.538000   7.10  1.00      ml  11.0   \n",
       "4 2021-12-11 09:50:52.120  38.815834 -122.820663   2.13  1.12      md  25.0   \n",
       "\n",
       "      gap      dmin     rms  ...        type horizontalError depthError  \\\n",
       "0  216.00  0.142300  0.1900  ...  earthquake            0.45       0.66   \n",
       "1  136.00  0.022120  0.2500  ...  earthquake            0.70       1.01   \n",
       "2   39.00  0.099380  0.3200  ...  earthquake            0.29       0.92   \n",
       "3  200.86  0.077000  0.1847  ...  earthquake             NaN       0.80   \n",
       "4   51.00  0.009625  0.0500  ...  earthquake            0.21       0.40   \n",
       "\n",
       "  magError magNst     status  locationSource  magSource  year month  \n",
       "0    0.241    8.0  automatic              ci         ci  2021    12  \n",
       "1    0.248   32.0  automatic              ci         ci  2021    12  \n",
       "2    0.211   26.0  automatic              ci         ci  2021    12  \n",
       "3    0.340    5.0  automatic              nn         nn  2021    12  \n",
       "4    0.140    3.0  automatic              nc         nc  2021    12  \n",
       "\n",
       "[5 rows x 24 columns]"
      ]
     },
     "execution_count": 66,
     "metadata": {},
     "output_type": "execute_result"
    }
   ],
   "source": [
    "df.head(5)"
   ]
  },
  {
   "cell_type": "markdown",
   "id": "d9ff0993",
   "metadata": {},
   "source": [
    "## API to Download data between most recent date and current date"
   ]
  },
  {
   "cell_type": "code",
   "execution_count": 67,
   "id": "71e3ffcc",
   "metadata": {},
   "outputs": [],
   "source": [
    "## Finding most recent date, turning it into a website url that will call csv\n",
    "\n",
    "m_time = max(df[\"time\"])\n",
    "max_time_string = str(m_time.year) + \"-\" + str(m_time.month) + \"-\" + str(m_time.day)\n",
    "web_string = \"https://earthquake.usgs.gov/fdsnws/event/1/query?format=csv&\" + max_time_string + \"&&minmagnitude=2&maxlatitude=50&minlatitude=24.6&maxlongitude=-65&minlongitude=-125\"\n",
    "download_csv_from_USGS = webbrowser.open(web_string)"
   ]
  },
  {
   "cell_type": "markdown",
   "id": "fb023f28",
   "metadata": {},
   "source": [
    "## Processing "
   ]
  },
  {
   "cell_type": "code",
   "execution_count": 68,
   "id": "f627a775",
   "metadata": {},
   "outputs": [
    {
     "data": {
      "text/plain": [
       "0      12\n",
       "1      12\n",
       "2      12\n",
       "3      12\n",
       "4      12\n",
       "       ..\n",
       "626    11\n",
       "627    11\n",
       "628    11\n",
       "629    11\n",
       "630    11\n",
       "Name: month, Length: 631, dtype: int64"
      ]
     },
     "execution_count": 68,
     "metadata": {},
     "output_type": "execute_result"
    }
   ],
   "source": [
    "##This cell will process\n",
    "\n",
    "earthquakes_additional = spark.read.csv('/Users/nicholasbronson/Metis_Nick/eq_data_121621.csv',\n",
    "                      header='true', \n",
    "                      inferSchema='true', \n",
    "                      sep=',')\n",
    "\n",
    "earthquakes_additional = earthquakes_additional.filter(earthquakes_additional.type == \"earthquake\")\n",
    "df_additional = earthquakes_additional.toPandas()\n",
    "df_additional.dropna(thresh = 10, inplace=True)\n",
    "df_additional[\"year\"] = df_additional[\"time\"].dt.year\n",
    "df_additional[\"year\"].astype(int)\n",
    "df_additional[\"month\"] = df_additional[\"time\"].dt.month\n",
    "df_additional[\"month\"].astype(int)\n",
    "\n",
    "## the cell below will create a CSV that can be uploaded to SQL and processed by the streamlit app \n",
    "## df_additional.to_csv('/Users/nicholasbronson/Metis_Nick/earthquake_up_to_date.csv', index = False)"
   ]
  },
  {
   "cell_type": "code",
   "execution_count": 72,
   "id": "4e9b5a1b",
   "metadata": {},
   "outputs": [],
   "source": [
    "## Run this cell to create a CSV that combines the newly aquired data and the historical data \n",
    "\n",
    "df_final = pd.concat([df, df_additional])\n",
    "df_final.to_csv('/Users/nicholasbronson/Metis_Nick/earthquake_updated.csv', index = False)"
   ]
  },
  {
   "cell_type": "markdown",
   "id": "c845011d",
   "metadata": {},
   "source": [
    "## Reducing size of dataframe "
   ]
  },
  {
   "cell_type": "code",
   "execution_count": 73,
   "id": "8ce1f27b",
   "metadata": {},
   "outputs": [],
   "source": [
    "df_final = df_final[(df_final['mag'] >= 2)]\n",
    "\n",
    "df_final.to_csv('/Users/nicholasbronson/Metis_Nick/earthquake_updated.csv', index = False)"
   ]
  },
  {
   "cell_type": "code",
   "execution_count": 74,
   "id": "5623084b",
   "metadata": {
    "scrolled": true
   },
   "outputs": [
    {
     "data": {
      "text/plain": [
       "2      2.29\n",
       "12     3.50\n",
       "14     2.27\n",
       "24     2.60\n",
       "30     2.90\n",
       "       ... \n",
       "626    2.70\n",
       "627    2.24\n",
       "628    2.30\n",
       "629    2.21\n",
       "630    2.51\n",
       "Name: mag, Length: 93580, dtype: float64"
      ]
     },
     "execution_count": 74,
     "metadata": {},
     "output_type": "execute_result"
    }
   ],
   "source": [
    "## Reducing size of dataframe below, this step will not be future in future iterations, however, \n",
    "## it was necessary due to hosting data on github rather than a cloud based database.\n",
    "## Future versions of this project will use a cloud based database.\n",
    "df_final.drop(['locationSource', 'magSource', 'status', 'magType', 'net', 'id', 'updated', 'type', 'status'] ,axis=1, inplace = True)\n",
    "df_final['mag'].astype(float)\n"
   ]
  }
 ],
 "metadata": {
  "kernelspec": {
   "display_name": "Python [conda env:metis] *",
   "language": "python",
   "name": "conda-env-metis-py"
  },
  "language_info": {
   "codemirror_mode": {
    "name": "ipython",
    "version": 3
   },
   "file_extension": ".py",
   "mimetype": "text/x-python",
   "name": "python",
   "nbconvert_exporter": "python",
   "pygments_lexer": "ipython3",
   "version": "3.8.10"
  }
 },
 "nbformat": 4,
 "nbformat_minor": 5
}
